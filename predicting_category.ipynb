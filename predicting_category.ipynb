{
  "nbformat": 4,
  "nbformat_minor": 0,
  "metadata": {
    "colab": {
      "provenance": [],
      "gpuType": "T4",
      "authorship_tag": "ABX9TyPM5nM67PckZIyVwcB0fktt",
      "include_colab_link": true
    },
    "kernelspec": {
      "name": "python3",
      "display_name": "Python 3"
    },
    "language_info": {
      "name": "python"
    },
    "accelerator": "GPU",
    "gpuClass": "standard"
  },
  "cells": [
    {
      "cell_type": "markdown",
      "metadata": {
        "id": "view-in-github",
        "colab_type": "text"
      },
      "source": [
        "<a href=\"https://colab.research.google.com/github/Ivan-KKH/APAI4011_GP/blob/master/predicting_category.ipynb\" target=\"_parent\"><img src=\"https://colab.research.google.com/assets/colab-badge.svg\" alt=\"Open In Colab\"/></a>"
      ]
    },
    {
      "cell_type": "code",
      "execution_count": null,
      "metadata": {
        "id": "ObWn2EbyFv_a"
      },
      "outputs": [],
      "source": [
        "from google.colab import files\n",
        "import numpy as np\n",
        "import pandas as pd\n",
        "import io\n",
        "import re\n",
        "from string import punctuation\n",
        "from sklearn.feature_extraction.text import CountVectorizer\n",
        "from keras.preprocessing.text import Tokenizer\n",
        "from keras.utils import pad_sequences\n",
        "from keras.layers import Bidirectional\n",
        "import warnings\n",
        "import random\n",
        "warnings.filterwarnings(\"ignore\")"
      ]
    },
    {
      "cell_type": "code",
      "source": [
        "uploaded = files.upload()"
      ],
      "metadata": {
        "colab": {
          "base_uri": "https://localhost:8080/",
          "height": 76
        },
        "id": "osq4rvsIFzCH",
        "outputId": "2115e664-b341-4183-ab7f-d2ad8899482c"
      },
      "execution_count": null,
      "outputs": [
        {
          "output_type": "display_data",
          "data": {
            "text/plain": [
              "<IPython.core.display.HTML object>"
            ],
            "text/html": [
              "\n",
              "     <input type=\"file\" id=\"files-53fee58c-4e0e-4f83-b333-bf647ed7b52e\" name=\"files[]\" multiple disabled\n",
              "        style=\"border:none\" />\n",
              "     <output id=\"result-53fee58c-4e0e-4f83-b333-bf647ed7b52e\">\n",
              "      Upload widget is only available when the cell has been executed in the\n",
              "      current browser session. Please rerun this cell to enable.\n",
              "      </output>\n",
              "      <script>// Copyright 2017 Google LLC\n",
              "//\n",
              "// Licensed under the Apache License, Version 2.0 (the \"License\");\n",
              "// you may not use this file except in compliance with the License.\n",
              "// You may obtain a copy of the License at\n",
              "//\n",
              "//      http://www.apache.org/licenses/LICENSE-2.0\n",
              "//\n",
              "// Unless required by applicable law or agreed to in writing, software\n",
              "// distributed under the License is distributed on an \"AS IS\" BASIS,\n",
              "// WITHOUT WARRANTIES OR CONDITIONS OF ANY KIND, either express or implied.\n",
              "// See the License for the specific language governing permissions and\n",
              "// limitations under the License.\n",
              "\n",
              "/**\n",
              " * @fileoverview Helpers for google.colab Python module.\n",
              " */\n",
              "(function(scope) {\n",
              "function span(text, styleAttributes = {}) {\n",
              "  const element = document.createElement('span');\n",
              "  element.textContent = text;\n",
              "  for (const key of Object.keys(styleAttributes)) {\n",
              "    element.style[key] = styleAttributes[key];\n",
              "  }\n",
              "  return element;\n",
              "}\n",
              "\n",
              "// Max number of bytes which will be uploaded at a time.\n",
              "const MAX_PAYLOAD_SIZE = 100 * 1024;\n",
              "\n",
              "function _uploadFiles(inputId, outputId) {\n",
              "  const steps = uploadFilesStep(inputId, outputId);\n",
              "  const outputElement = document.getElementById(outputId);\n",
              "  // Cache steps on the outputElement to make it available for the next call\n",
              "  // to uploadFilesContinue from Python.\n",
              "  outputElement.steps = steps;\n",
              "\n",
              "  return _uploadFilesContinue(outputId);\n",
              "}\n",
              "\n",
              "// This is roughly an async generator (not supported in the browser yet),\n",
              "// where there are multiple asynchronous steps and the Python side is going\n",
              "// to poll for completion of each step.\n",
              "// This uses a Promise to block the python side on completion of each step,\n",
              "// then passes the result of the previous step as the input to the next step.\n",
              "function _uploadFilesContinue(outputId) {\n",
              "  const outputElement = document.getElementById(outputId);\n",
              "  const steps = outputElement.steps;\n",
              "\n",
              "  const next = steps.next(outputElement.lastPromiseValue);\n",
              "  return Promise.resolve(next.value.promise).then((value) => {\n",
              "    // Cache the last promise value to make it available to the next\n",
              "    // step of the generator.\n",
              "    outputElement.lastPromiseValue = value;\n",
              "    return next.value.response;\n",
              "  });\n",
              "}\n",
              "\n",
              "/**\n",
              " * Generator function which is called between each async step of the upload\n",
              " * process.\n",
              " * @param {string} inputId Element ID of the input file picker element.\n",
              " * @param {string} outputId Element ID of the output display.\n",
              " * @return {!Iterable<!Object>} Iterable of next steps.\n",
              " */\n",
              "function* uploadFilesStep(inputId, outputId) {\n",
              "  const inputElement = document.getElementById(inputId);\n",
              "  inputElement.disabled = false;\n",
              "\n",
              "  const outputElement = document.getElementById(outputId);\n",
              "  outputElement.innerHTML = '';\n",
              "\n",
              "  const pickedPromise = new Promise((resolve) => {\n",
              "    inputElement.addEventListener('change', (e) => {\n",
              "      resolve(e.target.files);\n",
              "    });\n",
              "  });\n",
              "\n",
              "  const cancel = document.createElement('button');\n",
              "  inputElement.parentElement.appendChild(cancel);\n",
              "  cancel.textContent = 'Cancel upload';\n",
              "  const cancelPromise = new Promise((resolve) => {\n",
              "    cancel.onclick = () => {\n",
              "      resolve(null);\n",
              "    };\n",
              "  });\n",
              "\n",
              "  // Wait for the user to pick the files.\n",
              "  const files = yield {\n",
              "    promise: Promise.race([pickedPromise, cancelPromise]),\n",
              "    response: {\n",
              "      action: 'starting',\n",
              "    }\n",
              "  };\n",
              "\n",
              "  cancel.remove();\n",
              "\n",
              "  // Disable the input element since further picks are not allowed.\n",
              "  inputElement.disabled = true;\n",
              "\n",
              "  if (!files) {\n",
              "    return {\n",
              "      response: {\n",
              "        action: 'complete',\n",
              "      }\n",
              "    };\n",
              "  }\n",
              "\n",
              "  for (const file of files) {\n",
              "    const li = document.createElement('li');\n",
              "    li.append(span(file.name, {fontWeight: 'bold'}));\n",
              "    li.append(span(\n",
              "        `(${file.type || 'n/a'}) - ${file.size} bytes, ` +\n",
              "        `last modified: ${\n",
              "            file.lastModifiedDate ? file.lastModifiedDate.toLocaleDateString() :\n",
              "                                    'n/a'} - `));\n",
              "    const percent = span('0% done');\n",
              "    li.appendChild(percent);\n",
              "\n",
              "    outputElement.appendChild(li);\n",
              "\n",
              "    const fileDataPromise = new Promise((resolve) => {\n",
              "      const reader = new FileReader();\n",
              "      reader.onload = (e) => {\n",
              "        resolve(e.target.result);\n",
              "      };\n",
              "      reader.readAsArrayBuffer(file);\n",
              "    });\n",
              "    // Wait for the data to be ready.\n",
              "    let fileData = yield {\n",
              "      promise: fileDataPromise,\n",
              "      response: {\n",
              "        action: 'continue',\n",
              "      }\n",
              "    };\n",
              "\n",
              "    // Use a chunked sending to avoid message size limits. See b/62115660.\n",
              "    let position = 0;\n",
              "    do {\n",
              "      const length = Math.min(fileData.byteLength - position, MAX_PAYLOAD_SIZE);\n",
              "      const chunk = new Uint8Array(fileData, position, length);\n",
              "      position += length;\n",
              "\n",
              "      const base64 = btoa(String.fromCharCode.apply(null, chunk));\n",
              "      yield {\n",
              "        response: {\n",
              "          action: 'append',\n",
              "          file: file.name,\n",
              "          data: base64,\n",
              "        },\n",
              "      };\n",
              "\n",
              "      let percentDone = fileData.byteLength === 0 ?\n",
              "          100 :\n",
              "          Math.round((position / fileData.byteLength) * 100);\n",
              "      percent.textContent = `${percentDone}% done`;\n",
              "\n",
              "    } while (position < fileData.byteLength);\n",
              "  }\n",
              "\n",
              "  // All done.\n",
              "  yield {\n",
              "    response: {\n",
              "      action: 'complete',\n",
              "    }\n",
              "  };\n",
              "}\n",
              "\n",
              "scope.google = scope.google || {};\n",
              "scope.google.colab = scope.google.colab || {};\n",
              "scope.google.colab._files = {\n",
              "  _uploadFiles,\n",
              "  _uploadFilesContinue,\n",
              "};\n",
              "})(self);\n",
              "</script> "
            ]
          },
          "metadata": {}
        },
        {
          "output_type": "stream",
          "name": "stdout",
          "text": [
            "Saving amazon.csv to amazon.csv\n"
          ]
        }
      ]
    },
    {
      "cell_type": "code",
      "source": [
        "#read csv file\n",
        "df = pd.read_csv(io.BytesIO(uploaded['amazon.csv']))\n",
        "#dfReview for review title and review content\n",
        "dfText = df[['product_name','about_product','category']]"
      ],
      "metadata": {
        "id": "L9uv8KXfGLx7"
      },
      "execution_count": null,
      "outputs": []
    },
    {
      "cell_type": "code",
      "source": [
        "for column in range(2):\n",
        "  dfText.iloc[:,column] = dfText.iloc[:,column].apply(lambda x: x.lower())\n",
        "  dfText.iloc[:,column] = dfText.iloc[:,column].apply((lambda x: re.sub(r\"http\\S+\",\" \",x)))\n",
        "  dfText.iloc[:,column] = dfText.iloc[:,column].apply((lambda x: re.sub('[^a-zA-z0-9\\s]',\" \",x)))\n",
        "dfText['category'] = dfText['category'].apply(lambda x: x.split('|',1)[0])\n",
        "\n",
        "#combine product_name and about_product\n",
        "dfText['combined'] = dfText['product_name'] + ' ' + dfText['about_product']"
      ],
      "metadata": {
        "id": "hP6eO3KgHK77"
      },
      "execution_count": null,
      "outputs": []
    },
    {
      "cell_type": "code",
      "source": [
        "#tokenize, build vocab, and add paddings on product_name\n",
        "tokenizer = Tokenizer(num_words=2000,split=' ')\n",
        "tokenizer.fit_on_texts(dfText['combined'].values)\n",
        "text = tokenizer.texts_to_sequences(dfText['combined'].values)\n",
        "text = pad_sequences(text)\n",
        "\n",
        "#category\n",
        "category_list = []\n",
        "for categ in dfText['category']:\n",
        "  if categ not in category_list:\n",
        "    category_list.append(categ)\n",
        "print(f'category list: {category_list}')\n",
        "category = pd.get_dummies(dfText['category'], columns=category_list).values\n",
        "category_list = ['Car & Motorbike', 'Computers & Accessories', 'Electronics', 'Health & Personal Care', 'Home & Kitchen', 'Home Improvement', 'Musical Instruments', 'Office Products', 'Toys & Games']\n",
        "\n",
        "print(f'shape of text: {text.shape}')\n",
        "print(f'shape of category: {category.shape}')\n"
      ],
      "metadata": {
        "colab": {
          "base_uri": "https://localhost:8080/"
        },
        "id": "pmmCvkPVJ53x",
        "outputId": "85f88555-d558-4a5e-86ec-6af00c09c8ac"
      },
      "execution_count": null,
      "outputs": [
        {
          "output_type": "stream",
          "name": "stdout",
          "text": [
            "category list: ['Computers&Accessories', 'Electronics', 'MusicalInstruments', 'OfficeProducts', 'Home&Kitchen', 'HomeImprovement', 'Toys&Games', 'Car&Motorbike', 'Health&PersonalCare']\n",
            "shape of text: (1465, 424)\n",
            "shape of category: (1465, 9)\n"
          ]
        }
      ]
    },
    {
      "cell_type": "code",
      "source": [
        "from keras.layers import Input, Embedding, LSTM, Dense, concatenate, Flatten, Reshape, SpatialDropout1D\n",
        "from keras.models import Sequential\n",
        "from sklearn.model_selection import train_test_split"
      ],
      "metadata": {
        "id": "Fn8_2SbpKZV3"
      },
      "execution_count": null,
      "outputs": []
    },
    {
      "cell_type": "code",
      "source": [
        "#split data\n",
        "X_train, X_test, Y_train, Y_test = train_test_split(text, category, test_size=0.2, random_state=42)\n",
        "print(X_train.shape,Y_train.shape)\n",
        "print(X_test.shape,Y_test.shape)\n",
        "\n",
        "#apply Bidirectional LSTM\n",
        "model = Sequential()\n",
        "model.add(Embedding(2000, 128, input_length = 424))\n",
        "model.add(SpatialDropout1D(0.4))\n",
        "model.add(Bidirectional(LSTM(196, dropout=0.2, recurrent_dropout=0.2)))\n",
        "model.add(Dense(9,activation='softmax'))\n",
        "model.compile(loss = 'categorical_crossentropy', optimizer='adam',metrics = ['accuracy'])\n",
        "\n",
        "#Train the model for 5 epoches with embedding matrix you obtained earlier.\n",
        "#print training loss and training accuracy for each epoch\n",
        "model.fit(X_train, Y_train, epochs=10, batch_size=32, validation_data=(X_test,Y_test))  \n"
      ],
      "metadata": {
        "colab": {
          "base_uri": "https://localhost:8080/"
        },
        "id": "t3SZLplpLmvS",
        "outputId": "b6d1bed9-d561-4eb4-a874-28d2f6527ffb"
      },
      "execution_count": null,
      "outputs": [
        {
          "output_type": "stream",
          "name": "stdout",
          "text": [
            "(1172, 424) (1172, 9)\n",
            "(293, 424) (293, 9)\n"
          ]
        },
        {
          "output_type": "stream",
          "name": "stderr",
          "text": [
            "WARNING:tensorflow:Layer lstm will not use cuDNN kernels since it doesn't meet the criteria. It will use a generic GPU kernel as fallback when running on GPU.\n",
            "WARNING:tensorflow:Layer lstm will not use cuDNN kernels since it doesn't meet the criteria. It will use a generic GPU kernel as fallback when running on GPU.\n",
            "WARNING:tensorflow:Layer lstm will not use cuDNN kernels since it doesn't meet the criteria. It will use a generic GPU kernel as fallback when running on GPU.\n"
          ]
        },
        {
          "output_type": "stream",
          "name": "stdout",
          "text": [
            "Epoch 1/10\n",
            "37/37 [==============================] - 158s 4s/step - loss: 1.3598 - accuracy: 0.3507 - val_loss: 1.0952 - val_accuracy: 0.4949\n",
            "Epoch 2/10\n",
            "37/37 [==============================] - 146s 4s/step - loss: 0.8389 - accuracy: 0.7304 - val_loss: 0.9052 - val_accuracy: 0.6553\n",
            "Epoch 3/10\n",
            "37/37 [==============================] - 147s 4s/step - loss: 0.5892 - accuracy: 0.8302 - val_loss: 0.5167 - val_accuracy: 0.8771\n",
            "Epoch 4/10\n",
            "37/37 [==============================] - 156s 4s/step - loss: 0.3154 - accuracy: 0.9104 - val_loss: 0.4675 - val_accuracy: 0.8703\n",
            "Epoch 5/10\n",
            "37/37 [==============================] - 146s 4s/step - loss: 0.3814 - accuracy: 0.9138 - val_loss: 0.8461 - val_accuracy: 0.7167\n",
            "Epoch 6/10\n",
            "37/37 [==============================] - 163s 4s/step - loss: 0.3567 - accuracy: 0.8942 - val_loss: 0.3941 - val_accuracy: 0.9078\n",
            "Epoch 7/10\n",
            "37/37 [==============================] - 147s 4s/step - loss: 0.1417 - accuracy: 0.9590 - val_loss: 0.2989 - val_accuracy: 0.9283\n",
            "Epoch 8/10\n",
            "37/37 [==============================] - 156s 4s/step - loss: 0.1237 - accuracy: 0.9710 - val_loss: 0.4068 - val_accuracy: 0.8908\n",
            "Epoch 9/10\n",
            "37/37 [==============================] - 144s 4s/step - loss: 0.1286 - accuracy: 0.9650 - val_loss: 0.2671 - val_accuracy: 0.9454\n",
            "Epoch 10/10\n",
            "37/37 [==============================] - 143s 4s/step - loss: 0.0806 - accuracy: 0.9821 - val_loss: 0.3091 - val_accuracy: 0.9420\n"
          ]
        },
        {
          "output_type": "execute_result",
          "data": {
            "text/plain": [
              "<keras.callbacks.History at 0x7f48d00d1210>"
            ]
          },
          "metadata": {},
          "execution_count": 7
        }
      ]
    },
    {
      "cell_type": "code",
      "source": [
        "#auto category tagger function\n",
        "#choose a random product\n",
        "rand_idx = random.randint(0,len(df))\n",
        "product_name = dfText['product_name'][rand_idx]\n",
        "about_product = dfText['about_product'][rand_idx]\n",
        "\n",
        "#reshape the tokenised input\n",
        "input= np.reshape(text[rand_idx],(1, text[rand_idx].shape[0]))\n",
        "\n",
        "#predict the category\n",
        "pred = model.predict(input)\n",
        "max_idx = np.argmax(pred)\n",
        "predicted_category = category_list[max_idx]\n",
        "\n",
        "#print out the results\n",
        "actual_category = np.argmax(category[rand_idx])\n",
        "print(f\"Product name: {product_name}\")\n",
        "print(f\"Product description: {about_product}\")\n",
        "print(f'Predicted Category: {predicted_category}')\n",
        "print(f'Actual Category: {category_list[actual_category]}')"
      ],
      "metadata": {
        "colab": {
          "base_uri": "https://localhost:8080/"
        },
        "id": "z0POcrHSpOv0",
        "outputId": "fcb33978-a4b7-4fbc-f9ba-e0f900cc6d05"
      },
      "execution_count": null,
      "outputs": [
        {
          "output_type": "stream",
          "name": "stdout",
          "text": [
            "1/1 [==============================] - 0s 242ms/step\n",
            "Product name: sandisk ultra dual drive go usb type c pendrive for mobile  black  128 gb  5y   sdddc3 128g i35 \n",
            "Product description: the 2 in 1 flash drive with a reversible usb type c and a traditional type a connector  seamlessly move content between your usb type c smartphone  tablets and macs and usb type a computers  free up space on your usb type c smartphone so you can take more photos  automatically back up photos using the sandisk memory zone app high performance usb 3 1 gen 1 drive with 150mb s read speeds lets you quickly move your files to your computer 1 dual purpose swivel design protects connectors and features a keyring hole to take your drive on the go \n",
            "Predicted Category: Computers & Accessories\n",
            "Actual Category: Computers & Accessories\n"
          ]
        }
      ]
    }
  ]
}