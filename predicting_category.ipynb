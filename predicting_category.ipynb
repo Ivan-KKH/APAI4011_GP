{
  "cells": [
    {
      "cell_type": "code",
      "execution_count": 34,
      "metadata": {},
      "outputs": [],
      "source": [
        "#from google.colab import files\n",
        "import numpy as np\n",
        "import pandas as pd\n",
        "import io\n",
        "import re\n",
        "from string import punctuation\n",
        "from sklearn.feature_extraction.text import CountVectorizer\n",
        "from keras.preprocessing.text import Tokenizer\n",
        "from keras.utils import pad_sequences\n",
        "import warnings\n",
        "warnings.filterwarnings(\"ignore\")"
      ]
    },
    {
      "cell_type": "code",
      "execution_count": 35,
      "metadata": {
        "colab": {
          "base_uri": "https://localhost:8080/",
          "height": 76
        },
        "id": "osq4rvsIFzCH",
        "outputId": "54b3918a-9d5c-4a13-d864-f1eb78d630a7"
      },
      "outputs": [],
      "source": [
        "#uploaded = files.upload()"
      ]
    },
    {
      "cell_type": "code",
      "execution_count": 36,
      "metadata": {
        "id": "L9uv8KXfGLx7"
      },
      "outputs": [],
      "source": [
        "#read csv file\n",
        "#df = pd.read_csv(io.BytesIO(uploaded['amazon.csv']))\n",
        "df = pd.read_csv('amazon.csv')\n",
        "#dfReview for review title and review content\n",
        "dfText = df[['product_name','about_product','category']]"
      ]
    },
    {
      "cell_type": "code",
      "execution_count": 37,
      "metadata": {
        "id": "hP6eO3KgHK77"
      },
      "outputs": [],
      "source": [
        "for column in range(2):\n",
        "  dfText.iloc[:,column] = dfText.iloc[:,column].apply(lambda x: x.lower())\n",
        "  dfText.iloc[:,column] = dfText.iloc[:,column].apply((lambda x: re.sub(r\"http\\S+\",\" \",x)))\n",
        "  dfText.iloc[:,column] = dfText.iloc[:,column].apply((lambda x: re.sub('[^a-zA-z0-9\\s]',\" \",x)))\n",
        "dfText['category'] = dfText['category'].apply(lambda x: x.split('|',1)[0])\n",
        "\n",
        "#combine product_name and about_product\n",
        "dfText['combined'] = dfText['product_name'] + ' ' + dfText['about_product']"
      ]
    },
    {
      "cell_type": "code",
      "execution_count": 50,
      "metadata": {
        "colab": {
          "base_uri": "https://localhost:8080/"
        },
        "id": "pmmCvkPVJ53x",
        "outputId": "e8159148-1b8f-466e-d16d-cc6f63d6ab24"
      },
      "outputs": [
        {
          "name": "stdout",
          "output_type": "stream",
          "text": [
            "(1465, 424)\n",
            "(1465, 9)\n"
          ]
        }
      ],
      "source": [
        "#tokenize, build vocab, and add paddings on product_name\n",
        "tokenizer = Tokenizer(num_words=2000,split=' ')\n",
        "tokenizer.fit_on_texts(dfText['combined'].values)\n",
        "text = tokenizer.texts_to_sequences(dfText['combined'].values)\n",
        "text = pad_sequences(text)\n",
        "\n",
        "#category\n",
        "category_columns = pd.get_dummies(dfText['category']).columns\n",
        "\n",
        "category = pd.get_dummies(dfText['category']).values\n",
        "\n",
        "print(text.shape)\n",
        "print(category.shape)"
      ]
    },
    {
      "cell_type": "code",
      "execution_count": 39,
      "metadata": {},
      "outputs": [
        {
          "name": "stdout",
          "output_type": "stream",
          "text": [
            "['Computers&Accessories' 'Electronics' 'MusicalInstruments'\n",
            " 'OfficeProducts' 'Home&Kitchen' 'HomeImprovement' 'Toys&Games'\n",
            " 'Car&Motorbike' 'Health&PersonalCare']\n"
          ]
        }
      ],
      "source": [
        "# get the name of the category\n",
        "category_name = dfText['category'].unique()\n",
        "print(category_name)"
      ]
    },
    {
      "cell_type": "code",
      "execution_count": 40,
      "metadata": {
        "id": "Fn8_2SbpKZV3"
      },
      "outputs": [],
      "source": [
        "from keras.layers import Input, Embedding, LSTM, Dense, concatenate, Flatten, Reshape, SpatialDropout1D\n",
        "from keras.models import Sequential\n",
        "from sklearn.model_selection import train_test_split"
      ]
    },
    {
      "cell_type": "code",
      "execution_count": 41,
      "metadata": {},
      "outputs": [
        {
          "name": "stdout",
          "output_type": "stream",
          "text": [
            "(1172, 424) (1172, 9)\n",
            "(293, 424) (293, 9)\n"
          ]
        }
      ],
      "source": [
        "#split data\n",
        "X_train, X_test, Y_train, Y_test = train_test_split(text, category, test_size=0.2, random_state=42)\n",
        "print(X_train.shape,Y_train.shape)\n",
        "print(X_test.shape,Y_test.shape)"
      ]
    },
    {
      "cell_type": "code",
      "execution_count": null,
      "metadata": {
        "colab": {
          "base_uri": "https://localhost:8080/"
        },
        "id": "t3SZLplpLmvS",
        "outputId": "5c65d2e6-1c66-44b5-b270-9bc22d62aef1"
      },
      "outputs": [
        {
          "name": "stdout",
          "output_type": "stream",
          "text": [
            "(1172, 424) (1172, 9)\n",
            "(293, 424) (293, 9)\n",
            "Epoch 1/10\n",
            "37/37 [==============================] - 95s 2s/step - loss: 1.4326 - accuracy: 0.3464 - val_loss: 1.2116 - val_accuracy: 0.3379\n",
            "Epoch 2/10\n",
            "37/37 [==============================] - 91s 2s/step - loss: 1.2173 - accuracy: 0.3584 - val_loss: 1.2153 - val_accuracy: 0.4096\n",
            "Epoch 3/10\n",
            "37/37 [==============================] - 91s 2s/step - loss: 1.0802 - accuracy: 0.5742 - val_loss: 0.7732 - val_accuracy: 0.6724\n",
            "Epoch 4/10\n",
            "37/37 [==============================] - 91s 2s/step - loss: 1.0367 - accuracy: 0.5776 - val_loss: 0.9452 - val_accuracy: 0.6314\n",
            "Epoch 5/10\n",
            "37/37 [==============================] - 91s 2s/step - loss: 0.5970 - accuracy: 0.8200 - val_loss: 0.5583 - val_accuracy: 0.8157\n",
            "Epoch 6/10\n",
            "37/37 [==============================] - 91s 2s/step - loss: 0.3090 - accuracy: 0.9036 - val_loss: 0.4928 - val_accuracy: 0.8362\n",
            "Epoch 7/10\n",
            "37/37 [==============================] - 90s 2s/step - loss: 0.2223 - accuracy: 0.9292 - val_loss: 0.4401 - val_accuracy: 0.8601\n",
            "Epoch 8/10\n",
            "37/37 [==============================] - 90s 2s/step - loss: 0.1938 - accuracy: 0.9420 - val_loss: 0.3569 - val_accuracy: 0.9010\n",
            "Epoch 9/10\n",
            "37/37 [==============================] - 90s 2s/step - loss: 0.1081 - accuracy: 0.9676 - val_loss: 0.4088 - val_accuracy: 0.8976\n",
            "Epoch 10/10\n",
            "37/37 [==============================] - 91s 2s/step - loss: 0.0995 - accuracy: 0.9676 - val_loss: 0.4142 - val_accuracy: 0.8908\n"
          ]
        },
        {
          "data": {
            "text/plain": [
              "<keras.callbacks.History at 0x7f95aeeb7bb0>"
            ]
          },
          "execution_count": 73,
          "metadata": {},
          "output_type": "execute_result"
        }
      ],
      "source": [
        "\n",
        "\n",
        "#apply Bidirectional LSTM\n",
        "model = Sequential()\n",
        "model.add(Embedding(2000, 128, input_length = 424))\n",
        "model.add(SpatialDropout1D(0.4))\n",
        "model.add(LSTM(196, dropout=0.2, recurrent_dropout=0.2))\n",
        "model.add(Dense(9,activation='softmax'))\n",
        "model.compile(loss = 'categorical_crossentropy', optimizer='adam',metrics = ['accuracy'])\n",
        "\n",
        "#Train the model for 5 epoches with embedding matrix you obtained earlier.\n",
        "#print training loss and training accuracy for each epoch\n",
        "model.fit(X_train, Y_train, epochs=10, batch_size=32, validation_data=(X_test,Y_test))  \n"
      ]
    },
    {
      "cell_type": "code",
      "execution_count": 42,
      "metadata": {},
      "outputs": [
        {
          "name": "stdout",
          "output_type": "stream",
          "text": [
            "WARNING:tensorflow:Layer lstm will not use cuDNN kernels since it doesn't meet the criteria. It will use a generic GPU kernel as fallback when running on GPU.\n"
          ]
        },
        {
          "name": "stderr",
          "output_type": "stream",
          "text": [
            "WARNING:tensorflow:Layer lstm will not use cuDNN kernels since it doesn't meet the criteria. It will use a generic GPU kernel as fallback when running on GPU.\n",
            "WARNING:absl:At this time, the v2.11+ optimizer `tf.keras.optimizers.RestoredOptimizer` runs slowly on M1/M2 Macs, please use the legacy Keras optimizer instead, located at `tf.keras.optimizers.legacy.RestoredOptimizer`.\n",
            "WARNING:absl:At this time, the v2.11+ optimizer `tf.keras.optimizers.Adam` runs slowly on M1/M2 Macs, please use the legacy Keras optimizer instead, located at `tf.keras.optimizers.legacy.Adam`.\n",
            "WARNING:absl:There is a known slowdown when using v2.11+ Keras optimizers on M1/M2 Macs. Falling back to the legacy Keras optimizer, i.e., `tf.keras.optimizers.legacy.Adam`.\n"
          ]
        }
      ],
      "source": [
        "from tensorflow.keras.models import load_model\n",
        "\n",
        "loaded_model = load_model(\"category_model\")"
      ]
    },
    {
      "cell_type": "code",
      "execution_count": 43,
      "metadata": {},
      "outputs": [
        {
          "name": "stdout",
          "output_type": "stream",
          "text": [
            "10/10 [==============================] - 67s 7s/step - loss: 0.3509 - accuracy: 0.8976\n"
          ]
        },
        {
          "data": {
            "text/plain": [
              "[0.350906103849411, 0.8976109027862549]"
            ]
          },
          "execution_count": 43,
          "metadata": {},
          "output_type": "execute_result"
        }
      ],
      "source": [
        "loaded_model.evaluate(X_test, Y_test)"
      ]
    },
    {
      "cell_type": "code",
      "execution_count": 51,
      "metadata": {},
      "outputs": [],
      "source": [
        "\n",
        "def one_hot_to_category(one_hot_vector, category_columns):\n",
        "    max_index = np.argmax(one_hot_vector)\n",
        "    return category_columns[max_index]\n",
        "\n",
        "\n",
        "def predict_category(product_name, about_product):\n",
        "    # combine product_name and about_product\n",
        "    combined = product_name + ' ' + about_product\n",
        "    # tokenize and add paddings on the combined text\n",
        "    text = tokenizer.texts_to_sequences([combined])\n",
        "    text = pad_sequences(text, maxlen=424)\n",
        "    print(text.shape)\n",
        "    # predict the category of the product\n",
        "    prediction = loaded_model.predict(text)\n",
        "    return prediction"
      ]
    },
    {
      "cell_type": "code",
      "execution_count": 52,
      "metadata": {},
      "outputs": [
        {
          "name": "stdout",
          "output_type": "stream",
          "text": [
            "(1, 424)\n",
            "1/1 [==============================] - 6s 6s/step\n"
          ]
        }
      ],
      "source": [
        "product_name = 'Apple iPhone 11 Pro Max (64GB) - Midnight Green'\n",
        "\n",
        "about_product = 'The iPhone 11 Pro Max is a smartphone that was tested with the iOS 13.1.2 operating system. This model weighs 7.34 ounces, has a 6.5-inch touch screen display, 12-megapixel main camera, and 12-megapixel selfie camera. It comes with 4GB of RAM. The iPhone 11 Pro Max is powered by a hexa-core Apple A13 processor. It also has a 3969mAh battery. The iPhone 11 Pro Max supports wireless charging, as well as proprietary fast charging.'\n",
        "\n",
        "\n",
        "prediction_one_hot = predict_category(product_name, about_product)\n",
        "\n",
        "predicted_category = one_hot_to_category(prediction_one_hot, category_columns)"
      ]
    },
    {
      "cell_type": "code",
      "execution_count": 54,
      "metadata": {},
      "outputs": [
        {
          "data": {
            "text/plain": [
              "'Electronics'"
            ]
          },
          "execution_count": 54,
          "metadata": {},
          "output_type": "execute_result"
        }
      ],
      "source": [
        "predicted_category"
      ]
    },
    {
      "cell_type": "code",
      "execution_count": null,
      "metadata": {},
      "outputs": [],
      "source": []
    }
  ],
  "metadata": {
    "colab": {
      "provenance": []
    },
    "kernelspec": {
      "display_name": "Python 3",
      "name": "python3"
    },
    "language_info": {
      "codemirror_mode": {
        "name": "ipython",
        "version": 3
      },
      "file_extension": ".py",
      "mimetype": "text/x-python",
      "name": "python",
      "nbconvert_exporter": "python",
      "pygments_lexer": "ipython3",
      "version": "3.8.16"
    }
  },
  "nbformat": 4,
  "nbformat_minor": 0
}
