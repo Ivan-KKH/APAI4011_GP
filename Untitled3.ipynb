{
  "cells": [
    {
      "cell_type": "code",
      "execution_count": 1,
      "metadata": {
        "id": "d6tVsqbFTDDM"
      },
      "outputs": [],
      "source": [
        "#import libraries\n",
        "import numpy as np\n",
        "import pandas as pd\n",
        "from transformers import pipeline\n",
        "#from google.colab import files\n",
        "import io\n",
        "import re\n",
        "from tqdm import tqdm\n",
        "from sklearn.model_selection import train_test_split\n",
        "import math"
      ]
    },
    {
      "cell_type": "code",
      "execution_count": 9,
      "metadata": {
        "colab": {
          "base_uri": "https://localhost:8080/",
          "height": 76
        },
        "id": "Lf0p4D6PUO-n",
        "outputId": "1503c4ae-2f7e-4797-8873-772927a5712c"
      },
      "outputs": [],
      "source": [
        "#import CSV file\n",
        "#uploaded = files.upload()\n",
        "from nltk.sentiment import SentimentIntensityAnalyzer\n",
        "sia = SentimentIntensityAnalyzer()"
      ]
    },
    {
      "cell_type": "code",
      "execution_count": 47,
      "metadata": {
        "colab": {
          "base_uri": "https://localhost:8080/"
        },
        "id": "ihANVknoWmCD",
        "outputId": "3d1c60c4-3693-49fd-b05d-4cdb35a331f1"
      },
      "outputs": [
        {
          "name": "stderr",
          "output_type": "stream",
          "text": [
            "/var/folders/v3/2xyqp4lj5mq956kcrh010nl80000gn/T/ipykernel_30324/1619148373.py:18: SettingWithCopyWarning: \n",
            "A value is trying to be set on a copy of a slice from a DataFrame.\n",
            "Try using .loc[row_indexer,col_indexer] = value instead\n",
            "\n",
            "See the caveats in the documentation: https://pandas.pydata.org/pandas-docs/stable/user_guide/indexing.html#returning-a-view-versus-a-copy\n",
            "  dfText['combined'] = dfText['review_title'] + ' ' + dfText['review_content']\n"
          ]
        },
        {
          "data": {
            "text/plain": [
              "0       satisfied charging is really fast value for mo...\n",
              "1       a good braided cable for your type c device go...\n",
              "2       good speed for earlier versions good product w...\n",
              "3       good product good one nice really nice product...\n",
              "4       as good as original decent good one for second...\n",
              "                              ...                        \n",
              "1460    received the product without spanner excellent...\n",
              "1461    ok everything was good couldn t return bcoz i ...\n",
              "1462    very good work but front melt after 2 month go...\n",
              "1463    fan speed is slow good quality good product go...\n",
              "1464    works perfect ok good product nice product  re...\n",
              "Name: combined, Length: 1351, dtype: object"
            ]
          },
          "execution_count": 47,
          "metadata": {},
          "output_type": "execute_result"
        }
      ],
      "source": [
        "#read csv file\n",
        "#df = pd.read_csv(io.BytesIO(uploaded['amazon.csv']))\n",
        "df = pd.read_csv('amazon.csv')\n",
        "\n",
        "# drop all the redundant products\n",
        "df = df.drop_duplicates(subset=['product_id'])\n",
        "\n",
        "#dfReview for review product name and product description\n",
        "dfText = df[['review_title', 'review_content']]\n",
        "\n",
        "#preprocess text data\n",
        "for column in range(2):\n",
        "    dfText.iloc[:,column] = dfText.iloc[:,column].apply(lambda x: x.lower())\n",
        "    dfText.iloc[:,column] = dfText.iloc[:,column].apply((lambda x: re.sub(r\"http\\S+\",\" \",x)))\n",
        "    dfText.iloc[:,column] = dfText.iloc[:,column].apply((lambda x: re.sub('[^a-zA-z0-9\\s]',\" \",x)))\n",
        "\n",
        "#combine product_name and about_product\n",
        "dfText['combined'] = dfText['review_title'] + ' ' + dfText['review_content']\n",
        "dfText['combined']\n",
        "\n",
        "\n"
      ]
    },
    {
      "cell_type": "code",
      "execution_count": 48,
      "metadata": {
        "id": "VtjoRbXwix00"
      },
      "outputs": [],
      "source": [
        "#preprocess numeric inputs\n",
        "#rating count\n",
        "df['rating_count'] = df['rating_count'].replace(',','',regex=True).astype('float64')\n",
        "df['rating_count'] = df['rating_count'].fillna(0) #replace NaN values with 0\n",
        "\n",
        "#actual price\n",
        "df['actual_price'] = df['actual_price'].replace(',','',regex=True)\n",
        "df['actual_price'] = df['actual_price'].replace('₹','',regex=True).astype('float64')\n",
        "#discounted price\n",
        "df['discounted_price'] = df['discounted_price'].replace(',','',regex=True)\n",
        "df['discounted_price'] = df['discounted_price'].replace('₹','',regex=True).astype('float64')\n",
        "#rating\n",
        "df['rating'] = df['rating'].replace('|', '4.0').astype('float64')\n"
      ]
    },
    {
      "cell_type": "code",
      "execution_count": 51,
      "metadata": {
        "colab": {
          "base_uri": "https://localhost:8080/"
        },
        "id": "-OuPN_oaZK18",
        "outputId": "936f16e8-85dc-4004-c66e-044216111250"
      },
      "outputs": [
        {
          "name": "stderr",
          "output_type": "stream",
          "text": [
            "No model was supplied, defaulted to distilbert-base-uncased-finetuned-sst-2-english and revision af0f99b (https://huggingface.co/distilbert-base-uncased-finetuned-sst-2-english).\n",
            "Using a pipeline without specifying a model name and revision in production is not recommended.\n",
            "100%|██████████| 1351/1351 [00:28<00:00, 47.34it/s]\n"
          ]
        },
        {
          "data": {
            "text/html": [
              "<div>\n",
              "<style scoped>\n",
              "    .dataframe tbody tr th:only-of-type {\n",
              "        vertical-align: middle;\n",
              "    }\n",
              "\n",
              "    .dataframe tbody tr th {\n",
              "        vertical-align: top;\n",
              "    }\n",
              "\n",
              "    .dataframe thead th {\n",
              "        text-align: right;\n",
              "    }\n",
              "</style>\n",
              "<table border=\"1\" class=\"dataframe\">\n",
              "  <thead>\n",
              "    <tr style=\"text-align: right;\">\n",
              "      <th></th>\n",
              "      <th>review_title</th>\n",
              "      <th>sentiment</th>\n",
              "    </tr>\n",
              "  </thead>\n",
              "  <tbody>\n",
              "    <tr>\n",
              "      <th>0</th>\n",
              "      <td>Satisfied,Charging is really fast,Value for mo...</td>\n",
              "      <td>0.999341</td>\n",
              "    </tr>\n",
              "    <tr>\n",
              "      <th>1</th>\n",
              "      <td>A Good Braided Cable for Your Type C Device,Go...</td>\n",
              "      <td>-0.610362</td>\n",
              "    </tr>\n",
              "    <tr>\n",
              "      <th>2</th>\n",
              "      <td>Good speed for earlier versions,Good Product,W...</td>\n",
              "      <td>0.999560</td>\n",
              "    </tr>\n",
              "    <tr>\n",
              "      <th>3</th>\n",
              "      <td>Good product,Good one,Nice,Really nice product...</td>\n",
              "      <td>0.995654</td>\n",
              "    </tr>\n",
              "    <tr>\n",
              "      <th>4</th>\n",
              "      <td>As good as original,Decent,Good one for second...</td>\n",
              "      <td>0.999690</td>\n",
              "    </tr>\n",
              "    <tr>\n",
              "      <th>...</th>\n",
              "      <td>...</td>\n",
              "      <td>...</td>\n",
              "    </tr>\n",
              "    <tr>\n",
              "      <th>1460</th>\n",
              "      <td>Received the product without spanner,Excellent...</td>\n",
              "      <td>0.976231</td>\n",
              "    </tr>\n",
              "    <tr>\n",
              "      <th>1461</th>\n",
              "      <td>ok,everything was good couldn't return bcoz I ...</td>\n",
              "      <td>-0.954375</td>\n",
              "    </tr>\n",
              "    <tr>\n",
              "      <th>1462</th>\n",
              "      <td>very good,Work but front melt after 2 month,Go...</td>\n",
              "      <td>-0.909176</td>\n",
              "    </tr>\n",
              "    <tr>\n",
              "      <th>1463</th>\n",
              "      <td>Fan Speed is slow,Good quality,Good product,go...</td>\n",
              "      <td>0.997580</td>\n",
              "    </tr>\n",
              "    <tr>\n",
              "      <th>1464</th>\n",
              "      <td>Works perfect,Ok good product,Nice Product. Re...</td>\n",
              "      <td>0.994936</td>\n",
              "    </tr>\n",
              "  </tbody>\n",
              "</table>\n",
              "<p>1351 rows × 2 columns</p>\n",
              "</div>"
            ],
            "text/plain": [
              "                                           review_title  sentiment\n",
              "0     Satisfied,Charging is really fast,Value for mo...   0.999341\n",
              "1     A Good Braided Cable for Your Type C Device,Go...  -0.610362\n",
              "2     Good speed for earlier versions,Good Product,W...   0.999560\n",
              "3     Good product,Good one,Nice,Really nice product...   0.995654\n",
              "4     As good as original,Decent,Good one for second...   0.999690\n",
              "...                                                 ...        ...\n",
              "1460  Received the product without spanner,Excellent...   0.976231\n",
              "1461  ok,everything was good couldn't return bcoz I ...  -0.954375\n",
              "1462  very good,Work but front melt after 2 month,Go...  -0.909176\n",
              "1463  Fan Speed is slow,Good quality,Good product,go...   0.997580\n",
              "1464  Works perfect,Ok good product,Nice Product. Re...   0.994936\n",
              "\n",
              "[1351 rows x 2 columns]"
            ]
          },
          "execution_count": 51,
          "metadata": {},
          "output_type": "execute_result"
        }
      ],
      "source": [
        "#sentiment analysis\n",
        "sentiment_pipeline = pipeline(\"sentiment-analysis\")\n",
        "sentiment = []\n",
        "for review in tqdm(dfText['review_title']):\n",
        "    #sentiment analysis using huggingface sentiment analyser\n",
        "    # split by comma and put into the pipeline, take the average \n",
        "    review_sentiment = sentiment_pipeline(review.split(','))\n",
        "    \n",
        "    score = []\n",
        "    for rev in review_sentiment:\n",
        "        if rev['label'] == 'POSITIVE':\n",
        "            score.append(rev['score'])\n",
        "        else:\n",
        "            score.append(-1 * rev['score'])\n",
        "    score = np.mean(score)\n",
        "    sentiment.append(score)\n",
        "df['sentiment'] = sentiment\n",
        "\n",
        "df[['review_title','sentiment']]"
      ]
    },
    {
      "cell_type": "code",
      "execution_count": 40,
      "metadata": {},
      "outputs": [
        {
          "name": "stdout",
          "output_type": "stream",
          "text": [
            "6.219744682312012e-05\n"
          ]
        }
      ],
      "source": [
        "review = 'I love this product, I hate this product'\n",
        "review_sentiment = sentiment_pipeline(review.split(','))\n",
        "\n",
        "\n",
        "#loop through each review\n",
        "#positive score if label='POSITIVE' else negative\n",
        "\n",
        "sentiment = []\n",
        "for rev in review_sentiment:\n",
        "    if rev['label'] == 'POSITIVE':\n",
        "        score = rev['score']\n",
        "    else:\n",
        "        score = -1 * rev['score']\n",
        "    sentiment.append(score)\n",
        "    \n",
        "\n",
        "# take the average of the sentiment score\n",
        "print(np.mean(sentiment))"
      ]
    },
    {
      "cell_type": "code",
      "execution_count": 52,
      "metadata": {},
      "outputs": [
        {
          "data": {
            "text/plain": [
              "0.6369"
            ]
          },
          "execution_count": 52,
          "metadata": {},
          "output_type": "execute_result"
        }
      ],
      "source": [
        "review_sentiment = sia.polarity_scores('I love this product')\n",
        "review_sentiment['compound']\n"
      ]
    },
    {
      "cell_type": "code",
      "execution_count": 53,
      "metadata": {},
      "outputs": [
        {
          "data": {
            "text/plain": [
              "0       0.999341\n",
              "1      -0.610362\n",
              "2       0.999560\n",
              "3       0.995654\n",
              "4       0.999690\n",
              "          ...   \n",
              "1460    0.976231\n",
              "1461   -0.954375\n",
              "1462   -0.909176\n",
              "1463    0.997580\n",
              "1464    0.994936\n",
              "Name: sentiment, Length: 1351, dtype: float64"
            ]
          },
          "execution_count": 53,
          "metadata": {},
          "output_type": "execute_result"
        }
      ],
      "source": [
        "df['sentiment']"
      ]
    },
    {
      "cell_type": "code",
      "execution_count": 57,
      "metadata": {},
      "outputs": [
        {
          "data": {
            "image/png": "[encoded data removed]",
            "text/plain": [
              "<Figure size 640x480 with 1 Axes>"
            ]
          },
          "metadata": {},
          "output_type": "display_data"
        }
      ],
      "source": [
        "# visualise the distribution of sentiment scores\n",
        "import matplotlib.pyplot as plt\n",
        "plt.hist(sentiment, bins=20)\n",
        "plt.show()\n"
      ]
    },
    {
      "cell_type": "code",
      "execution_count": 35,
      "metadata": {},
      "outputs": [
        {
          "name": "stdout",
          "output_type": "stream",
          "text": [
            "Good,Kids love this,Simply superb,Happy,Good,Nice gift for toddlers..... Good for elders too, to mak notes,Nice,Useful\n",
            "0.9998794794082642\n",
            "\n",
            "Boats are the best.,Just awesome,it is good in this range .....,Great product in the price range,Awesome product,Nice,Perfect,Quality\n",
            "0.9998759031295776\n",
            "\n",
            "Awesome Product\n",
            "0.9998725652694702\n",
            "\n",
            "So good ,nice looking,Value for money and a nice product,Awesome Product,overrated,Really good,Good,It is very good 👍,Good\n",
            "0.9998718500137329\n",
            "\n",
            "Good,Superb quality,Good products  nice one,Working well with iphone11.,I always rely on this companys products , so very good. Thank you so much\n",
            "0.9998705387115479\n",
            "\n"
          ]
        }
      ],
      "source": [
        "# print the top 5 sentiment scores with the highest sentiment\n",
        "df[['review_title','sentiment']].sort_values(by='sentiment', ascending=False).head(5)\n",
        "\n",
        "# visualize the top 5 sentiment scores with the highest sentiment, just put the score along the review\n",
        "for i in range(5):\n",
        "    #print(df['sentiment'].sort_values(ascending=False).index[i])\n",
        "    print(df['review_title'][df['sentiment'].sort_values(ascending=False).index[i]])\n",
        "    print(df['sentiment'][df['sentiment'].sort_values(ascending=False).index[i]])\n",
        "    print('')\n",
        "\n"
      ]
    },
    {
      "cell_type": "code",
      "execution_count": 36,
      "metadata": {},
      "outputs": [
        {
          "name": "stdout",
          "output_type": "stream",
          "text": [
            "Useless\n",
            "-0.9997991919517517\n",
            "\n",
            "mast mouse hain,Awesome and cheap for gaming mouse,sensitive as I expected,Mouse gaming,Build quality is very worst,awesome design from HP,Best Buy,Perfect 👍\n",
            "-0.9997593760490417\n",
            "\n",
            "Super product,Worst antenna.... It came out while adjusting...wastage of money,Nice product,Good,A Must Have product.,Poor sound,Wothy,Useful product if you watch movies in mobile.\n",
            "-0.999680757522583\n",
            "\n",
            "Install CSR Driver For Advanced Features + Stability (More Than Just Bluetooth),Thik h,Driver installation CD was missing from the package.,Not compatible for office usage,Spr,THIS IS MY 2ND ORDER,Waste of time & Money , Not recommend,Wrong product delivered.\n",
            "-0.9996792078018188\n",
            "\n",
            "Useful but the length is a bit short,This product is overpriced,Not proper,good,Happy to get it,USB Cable,good,Theek hi h\n",
            "-0.9996762275695801\n",
            "\n"
          ]
        }
      ],
      "source": [
        "# print the lowest 5 sentiment scores with the lowest sentiment\n",
        "df[['review_title','sentiment']].sort_values(by='sentiment', ascending=True).head(5)\n",
        "\n",
        "for i in range(5):\n",
        "    #print(df['sentiment'].sort_values(ascending=False).index[i])\n",
        "    print(df['review_title'][df['sentiment'].sort_values(ascending=True).index[i]])\n",
        "    print(df['sentiment'][df['sentiment'].sort_values(ascending=True).index[i]])\n",
        "    print('')"
      ]
    },
    {
      "cell_type": "code",
      "execution_count": 101,
      "metadata": {
        "colab": {
          "base_uri": "https://localhost:8080/"
        },
        "id": "ye4D3oj1fnl2",
        "outputId": "1ca97156-f1d9-4112-ea71-166c00c13b8f"
      },
      "outputs": [
        {
          "name": "stdout",
          "output_type": "stream",
          "text": [
            "R2 Score:  0.9229431866536697\n"
          ]
        }
      ],
      "source": [
        "#Applying Preprocessing using Standard Scaler\n",
        "\n",
        "from sklearn.preprocessing import StandardScaler\n",
        "from sklearn.linear_model import LinearRegression\n",
        "from sklearn.metrics import r2_score\n",
        "\n",
        "scaler = StandardScaler()\n",
        "\n",
        "#add review sentiment as an input variable\n",
        "X = df[['actual_price', 'rating', 'rating_count', 'sentiment']]\n",
        "y = df['discounted_price']\n",
        "\n",
        "#normalise numeric inputs and output\n",
        "X = scaler.fit_transform(X)\n",
        "output_scaler = StandardScaler()\n",
        "y = output_scaler.fit_transform(np.array(y).reshape(-1,1))\n",
        "\n",
        "#train test split\n",
        "X_train, X_test, y_train, y_test = train_test_split(X, y, random_state = 21, test_size = 0.3)\n",
        "\n",
        "#fit multiple linear regression\n",
        "regss = LinearRegression()\n",
        "regss.fit(X_train, y_train)\n",
        "\n",
        "#predict and print R2\n",
        "y_pred = regss.predict(X_test)\n",
        "print('R2 Score: ', r2_score(y_test, y_pred))"
      ]
    },
    {
      "cell_type": "code",
      "execution_count": 103,
      "metadata": {
        "colab": {
          "base_uri": "https://localhost:8080/"
        },
        "id": "qEv9DO5Us05p",
        "outputId": "df10afa5-6ba1-4fe1-b243-d2c2effcb370"
      },
      "outputs": [
        {
          "name": "stdout",
          "output_type": "stream",
          "text": [
            "[[359.97, 4.0, 169381, 0.9949361085891724]]\n",
            "suggested discounted price: -0.4483479716805008\n"
          ]
        },
        {
          "name": "stderr",
          "output_type": "stream",
          "text": [
            "/usr/local/lib/python3.9/dist-packages/sklearn/base.py:439: UserWarning: X does not have valid feature names, but StandardScaler was fitted with feature names\n",
            "  warnings.warn(\n"
          ]
        }
      ],
      "source": [
        "# make a prediction for an example of an out-of-sample observation\n",
        "#Blink Outdoor (3rd Gen) - wireless, weather-resistant HD security camera, two-year battery life, motion detection, set up in minutes – 4 camera system\n",
        "actual_price = 359.97\n",
        "rating = 4.0\n",
        "rating_count = 169381\n",
        "#review = '4.0 out of 5 stars Still A Good Buy, Still A Bit Lacking...'\n",
        "review = 'Works pretty good'\n",
        "\n",
        "#sentiment analysis\n",
        "rev_sent = sentiment_pipeline(review[:512])\n",
        "#positive score if label='POSITIVE' else negative\n",
        "if (rev_sent[0]['label'] == 'POSITIVE'):\n",
        "    sentiment = review_sentiment[0]['score']\n",
        "else:\n",
        "    sentiment = -1 * review_sentiment[0]['score']\n",
        "\n",
        "input = [[actual_price, rating, rating_count, sentiment]]\n",
        "Xnew = scaler.transform(input)\n",
        "\n",
        "# make a prediction\n",
        "ynew = regss.predict(Xnew)\n",
        "\n",
        "#ynew = output_scaler.inverse_transform(ynew)\n",
        "\n",
        "print(input)\n",
        "print(f'suggested discounted price: {ynew[0][0]}')"
      ]
    }
  ],
  "metadata": {
    "colab": {
      "provenance": []
    },
    "kernelspec": {
      "display_name": "Python 3",
      "name": "python3"
    },
    "language_info": {
      "codemirror_mode": {
        "name": "ipython",
        "version": 3
      },
      "file_extension": ".py",
      "mimetype": "text/x-python",
      "name": "python",
      "nbconvert_exporter": "python",
      "pygments_lexer": "ipython3",
      "version": "3.8.16"
    }
  },
  "nbformat": 4,
  "nbformat_minor": 0
}
