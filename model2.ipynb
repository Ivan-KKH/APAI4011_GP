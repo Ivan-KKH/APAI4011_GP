{
  "cells": [
    {
      "cell_type": "markdown",
      "metadata": {
        "colab_type": "text",
        "id": "view-in-github"
      },
      "source": [
        "<a href=\"https://colab.research.google.com/github/Ivan-KKH/APAI4011_GP/blob/master/model2.ipynb\" target=\"_parent\"><img src=\"https://colab.research.google.com/assets/colab-badge.svg\" alt=\"Open In Colab\"/></a>"
      ]
    },
    {
      "cell_type": "code",
      "execution_count": 1,
      "metadata": {
        "colab": {
          "base_uri": "https://localhost:8080/"
        },
        "id": "C6mjywwLS141",
        "outputId": "eaeb8b86-98bf-4a65-ed13-fa99477933b4"
      },
      "outputs": [],
      "source": [
        "#install\n",
        "!pip install -q transformers"
      ]
    },
    {
      "cell_type": "code",
      "execution_count": 2,
      "metadata": {
        "id": "d6tVsqbFTDDM"
      },
      "outputs": [],
      "source": [
        "#import libraries\n",
        "import numpy as np\n",
        "import pandas as pd\n",
        "from transformers import pipeline\n",
        "#from google.colab import files\n",
        "import io\n",
        "import re\n",
        "from tqdm import tqdm\n",
        "from sklearn.model_selection import train_test_split\n",
        "import math\n",
        "import warnings\n",
        "warnings.filterwarnings(\"ignore\")"
      ]
    },
    {
      "cell_type": "code",
      "execution_count": 3,
      "metadata": {
        "colab": {
          "base_uri": "https://localhost:8080/",
          "height": 76
        },
        "id": "Lf0p4D6PUO-n",
        "outputId": "8c612911-e92f-4e09-f1dc-3dadad55a164"
      },
      "outputs": [],
      "source": [
        "#import CSV file\n",
        "#uploaded = files.upload()\n"
      ]
    },
    {
      "cell_type": "code",
      "execution_count": 4,
      "metadata": {
        "colab": {
          "base_uri": "https://localhost:8080/"
        },
        "id": "ihANVknoWmCD",
        "outputId": "31f9ab33-bde7-4594-8475-ae0b2cbb8549"
      },
      "outputs": [
        {
          "data": {
            "text/plain": [
              "0       satisfied charging is really fast value for mo...\n",
              "1       a good braided cable for your type c device go...\n",
              "2       good speed for earlier versions good product w...\n",
              "3       good product good one nice really nice product...\n",
              "4       as good as original decent good one for second...\n",
              "                              ...                        \n",
              "1460    received the product without spanner excellent...\n",
              "1461    ok everything was good couldn t return bcoz i ...\n",
              "1462    very good work but front melt after 2 month go...\n",
              "1463    fan speed is slow good quality good product go...\n",
              "1464    works perfect ok good product nice product  re...\n",
              "Name: combined, Length: 1465, dtype: object"
            ]
          },
          "execution_count": 4,
          "metadata": {},
          "output_type": "execute_result"
        }
      ],
      "source": [
        "#read csv file\n",
        "#df = pd.read_csv(io.BytesIO(uploaded['amazon.csv']))\n",
        "df = pd.read_csv('amazon.csv')\n",
        "\n",
        "#dfReview for review product name and product description\n",
        "dfText = df[['review_title', 'review_content']]\n",
        "\n",
        "#preprocess text data\n",
        "for column in range(2):\n",
        "    dfText.iloc[:,column] = dfText.iloc[:,column].apply(lambda x: x.lower())\n",
        "    dfText.iloc[:,column] = dfText.iloc[:,column].apply((lambda x: re.sub(r\"http\\S+\",\" \",x)))\n",
        "    dfText.iloc[:,column] = dfText.iloc[:,column].apply((lambda x: re.sub('[^a-zA-z0-9\\s]',\" \",x)))\n",
        "\n",
        "#combine product_name and about_product\n",
        "dfText['combined'] = dfText['review_title'] + ' ' + dfText['review_content']\n",
        "dfText['combined']"
      ]
    },
    {
      "cell_type": "code",
      "execution_count": 5,
      "metadata": {
        "id": "VtjoRbXwix00"
      },
      "outputs": [],
      "source": [
        "#preprocess numeric inputs\n",
        "#rating count\n",
        "df['rating_count'] = df['rating_count'].replace(',','',regex=True).astype('float64')\n",
        "df['rating_count'] = df['rating_count'].fillna(0) #replace NaN values with 0\n",
        "\n",
        "#actual price\n",
        "df['actual_price'] = df['actual_price'].replace(',','',regex=True)\n",
        "df['actual_price'] = df['actual_price'].replace('₹','',regex=True).astype('float64')\n",
        "#discounted price\n",
        "df['discounted_price'] = df['discounted_price'].replace(',','',regex=True)\n",
        "df['discounted_price'] = df['discounted_price'].replace('₹','',regex=True).astype('float64')\n",
        "#rating\n",
        "df['rating'] = df['rating'].replace('|', '4.0').astype('float64')\n"
      ]
    },
    {
      "cell_type": "code",
      "execution_count": 6,
      "metadata": {
        "colab": {
          "base_uri": "https://localhost:8080/",
          "height": 497
        },
        "id": "-OuPN_oaZK18",
        "outputId": "ab4de8ec-031f-4265-a3a2-deb522d70d8c"
      },
      "outputs": [
        {
          "name": "stderr",
          "output_type": "stream",
          "text": [
            "No model was supplied, defaulted to distilbert-base-uncased-finetuned-sst-2-english and revision af0f99b (https://huggingface.co/distilbert-base-uncased-finetuned-sst-2-english).\n",
            "Using a pipeline without specifying a model name and revision in production is not recommended.\n",
            "100%|██████████| 1465/1465 [00:35<00:00, 40.91it/s]\n"
          ]
        },
        {
          "data": {
            "text/html": [
              "<div>\n",
              "<style scoped>\n",
              "    .dataframe tbody tr th:only-of-type {\n",
              "        vertical-align: middle;\n",
              "    }\n",
              "\n",
              "    .dataframe tbody tr th {\n",
              "        vertical-align: top;\n",
              "    }\n",
              "\n",
              "    .dataframe thead th {\n",
              "        text-align: right;\n",
              "    }\n",
              "</style>\n",
              "<table border=\"1\" class=\"dataframe\">\n",
              "  <thead>\n",
              "    <tr style=\"text-align: right;\">\n",
              "      <th></th>\n",
              "      <th>review_title</th>\n",
              "      <th>sentiment</th>\n",
              "    </tr>\n",
              "  </thead>\n",
              "  <tbody>\n",
              "    <tr>\n",
              "      <th>0</th>\n",
              "      <td>Satisfied,Charging is really fast,Value for mo...</td>\n",
              "      <td>0.999341</td>\n",
              "    </tr>\n",
              "    <tr>\n",
              "      <th>1</th>\n",
              "      <td>A Good Braided Cable for Your Type C Device,Go...</td>\n",
              "      <td>-0.610362</td>\n",
              "    </tr>\n",
              "    <tr>\n",
              "      <th>2</th>\n",
              "      <td>Good speed for earlier versions,Good Product,W...</td>\n",
              "      <td>0.999560</td>\n",
              "    </tr>\n",
              "    <tr>\n",
              "      <th>3</th>\n",
              "      <td>Good product,Good one,Nice,Really nice product...</td>\n",
              "      <td>0.995654</td>\n",
              "    </tr>\n",
              "    <tr>\n",
              "      <th>4</th>\n",
              "      <td>As good as original,Decent,Good one for second...</td>\n",
              "      <td>0.999690</td>\n",
              "    </tr>\n",
              "    <tr>\n",
              "      <th>...</th>\n",
              "      <td>...</td>\n",
              "      <td>...</td>\n",
              "    </tr>\n",
              "    <tr>\n",
              "      <th>1460</th>\n",
              "      <td>Received the product without spanner,Excellent...</td>\n",
              "      <td>0.976231</td>\n",
              "    </tr>\n",
              "    <tr>\n",
              "      <th>1461</th>\n",
              "      <td>ok,everything was good couldn't return bcoz I ...</td>\n",
              "      <td>-0.954375</td>\n",
              "    </tr>\n",
              "    <tr>\n",
              "      <th>1462</th>\n",
              "      <td>very good,Work but front melt after 2 month,Go...</td>\n",
              "      <td>-0.909176</td>\n",
              "    </tr>\n",
              "    <tr>\n",
              "      <th>1463</th>\n",
              "      <td>Fan Speed is slow,Good quality,Good product,go...</td>\n",
              "      <td>0.997580</td>\n",
              "    </tr>\n",
              "    <tr>\n",
              "      <th>1464</th>\n",
              "      <td>Works perfect,Ok good product,Nice Product. Re...</td>\n",
              "      <td>0.994936</td>\n",
              "    </tr>\n",
              "  </tbody>\n",
              "</table>\n",
              "<p>1465 rows × 2 columns</p>\n",
              "</div>"
            ],
            "text/plain": [
              "                                           review_title  sentiment\n",
              "0     Satisfied,Charging is really fast,Value for mo...   0.999341\n",
              "1     A Good Braided Cable for Your Type C Device,Go...  -0.610362\n",
              "2     Good speed for earlier versions,Good Product,W...   0.999560\n",
              "3     Good product,Good one,Nice,Really nice product...   0.995654\n",
              "4     As good as original,Decent,Good one for second...   0.999690\n",
              "...                                                 ...        ...\n",
              "1460  Received the product without spanner,Excellent...   0.976231\n",
              "1461  ok,everything was good couldn't return bcoz I ...  -0.954375\n",
              "1462  very good,Work but front melt after 2 month,Go...  -0.909176\n",
              "1463  Fan Speed is slow,Good quality,Good product,go...   0.997580\n",
              "1464  Works perfect,Ok good product,Nice Product. Re...   0.994936\n",
              "\n",
              "[1465 rows x 2 columns]"
            ]
          },
          "execution_count": 6,
          "metadata": {},
          "output_type": "execute_result"
        }
      ],
      "source": [
        "\n",
        "#sentiment analysis\n",
        "sentiment_pipeline = pipeline(\"sentiment-analysis\")\n",
        "sentiment = []\n",
        "for review in tqdm(dfText['review_title']):\n",
        "    #sentiment analysis using huggingface sentiment analyser\n",
        "\n",
        "    review_sentiment = sentiment_pipeline(review[:512])\n",
        "    #positive score if label='POSITIVE' else negative\n",
        "    if review_sentiment[0]['label'] == 'POSITIVE':\n",
        "        score = review_sentiment[0]['score']\n",
        "    else:\n",
        "        score = -1 * review_sentiment[0]['score']\n",
        "    sentiment.append(score)\n",
        "df['sentiment'] = sentiment\n",
        "\n",
        "df[['review_title','sentiment']]\n"
      ]
    },
    {
      "cell_type": "code",
      "execution_count": 7,
      "metadata": {},
      "outputs": [
        {
          "data": {
            "image/png": "[encoded data removed]",
            "text/plain": [
              "<Figure size 640x480 with 1 Axes>"
            ]
          },
          "metadata": {},
          "output_type": "display_data"
        }
      ],
      "source": [
        "import matplotlib.pyplot as plt\n",
        "plt.hist(sentiment, bins=20)\n",
        "plt.show()"
      ]
    },
    {
      "cell_type": "code",
      "execution_count": 8,
      "metadata": {
        "colab": {
          "base_uri": "https://localhost:8080/"
        },
        "id": "ye4D3oj1fnl2",
        "outputId": "3295678e-254a-472e-a271-38a1db88b5ac"
      },
      "outputs": [
        {
          "name": "stdout",
          "output_type": "stream",
          "text": [
            "R2 Score:  0.9229431872121729\n",
            "Mean Squared Error:  0.09744007480153853\n"
          ]
        }
      ],
      "source": [
        "#multiple linear regression\n",
        "from sklearn.preprocessing import StandardScaler\n",
        "from sklearn.linear_model import LinearRegression\n",
        "from sklearn.metrics import r2_score\n",
        "\n",
        "scaler = StandardScaler()\n",
        "\n",
        "#add review sentiment as an input variable\n",
        "X = df[['actual_price', 'rating', 'rating_count', 'sentiment']]\n",
        "y = df['discounted_price']\n",
        "\n",
        "#normalise numeric inputs and output\n",
        "X = scaler.fit_transform(X)\n",
        "output_scaler = StandardScaler()\n",
        "y = output_scaler.fit_transform(np.array(y).reshape(-1,1))\n",
        "\n",
        "#train test split\n",
        "X_train, X_test, y_train, y_test = train_test_split(X, y, random_state = 21, test_size = 0.3)\n",
        "\n",
        "#fit multiple linear regression\n",
        "regss = LinearRegression()\n",
        "regss.fit(X_train, y_train)\n",
        "\n",
        "#predict and print R2\n",
        "y_pred = regss.predict(X_test)\n",
        "\n",
        "print('R2 Score: ', r2_score(y_test, y_pred))\n",
        "\n",
        "# print other metrics\n",
        "from sklearn.metrics import mean_squared_error, mean_absolute_error\n",
        "print('Mean Squared Error: ', mean_squared_error(y_test, y_pred))"
      ]
    },
    {
      "cell_type": "code",
      "execution_count": 9,
      "metadata": {
        "colab": {
          "base_uri": "https://localhost:8080/"
        },
        "id": "qEv9DO5Us05p",
        "outputId": "e274f888-3b53-4de0-82f3-978e321ce9b8"
      },
      "outputs": [
        {
          "name": "stdout",
          "output_type": "stream",
          "text": [
            "[[599, 4.0, 171, -0.9949361085891724]]\n",
            "suggested discounted price: 386.558613610036\n"
          ]
        }
      ],
      "source": [
        "# make a prediction for an example of an out-of-sample observation\n",
        "#Blink Outdoor (3rd Gen) - wireless, weather-resistant HD security camera, two-year battery life, motion detection, set up in minutes – 4 camera system\n",
        "\n",
        "'''\n",
        "actual_price = 20999\n",
        "rating = 4.1\n",
        "rating_count = 19252\n",
        "review = \"Above average phone,Worth For The Money,Okie,Phone is excellent,Purchased in good budget at 12k,It can fulfill basic needs in affordable price range,Nice,About features.\"\n",
        "'''\n",
        "actual_price = 599\n",
        "rating = 4.0\n",
        "rating_count = 171\n",
        "review = \"Nice product,Cheap plus durable. Worth the money.,Good purchase,Aine HDMI Male to VGA Female Video Converter Adapter Cable (Black),It's easy to connect,Sturdy, affordable, no lag converyer cable,Works well but the output quality is not as good as direct VGA connection.,Works well. Does its work as required.\"\n",
        "\n",
        "\n",
        "#sentiment analysis\n",
        "rev_sent = sentiment_pipeline(review[:512])\n",
        "#positive score if label='POSITIVE' else negative\n",
        "if (rev_sent[0]['label'] == 'POSITIVE'):\n",
        "    sentiment = review_sentiment[0]['score']\n",
        "else:\n",
        "    sentiment = -1 * review_sentiment[0]['score']\n",
        "\n",
        "input = [[actual_price, rating, rating_count, sentiment]]\n",
        "Xnew = scaler.transform(input)\n",
        "\n",
        "# make a prediction\n",
        "ynew = regss.predict(Xnew)\n",
        "\n",
        "ynew = output_scaler.inverse_transform(ynew)\n",
        "\n",
        "print(input)\n",
        "print(f'suggested discounted price: {ynew[0][0]}')"
      ]
    },
    {
      "cell_type": "code",
      "execution_count": 10,
      "metadata": {
        "colab": {
          "base_uri": "https://localhost:8080/"
        },
        "id": "ZF38QvCR9S--",
        "outputId": "53a23f7d-e940-4db9-8721-447eee7546ee"
      },
      "outputs": [
        {
          "name": "stdout",
          "output_type": "stream",
          "text": [
            "R2 Score:  0.9279137895316119\n",
            "Mean Squared Error:  0.09115463624922746\n"
          ]
        }
      ],
      "source": [
        "#SVM\n",
        "from sklearn.svm import SVR\n",
        "\n",
        "#fit on SVM regressor with Gaussian RBF kernel\n",
        "linear_svm = SVR(kernel = 'linear') #linear=0.927 or rbf=0.890\n",
        "linear_svm.fit(X_train, y_train)\n",
        "\n",
        "#predict and print R2\n",
        "y_pred = linear_svm.predict(X_test)\n",
        "print('R2 Score: ', r2_score(y_test, y_pred))\n",
        "print('Mean Squared Error: ', mean_squared_error(y_test, y_pred))"
      ]
    },
    {
      "cell_type": "code",
      "execution_count": 11,
      "metadata": {},
      "outputs": [
        {
          "name": "stdout",
          "output_type": "stream",
          "text": [
            "[[599, 4.0, 171, -0.9949361085891724]]\n",
            "suggested discounted price: 309.84200051908647\n",
            "coefficients: [[ 0.9737023   0.01263486  0.00114059 -0.02022697]]\n"
          ]
        }
      ],
      "source": [
        "# make a prediction for an example of an out-of-sample observation\n",
        "#Blink Outdoor (3rd Gen) - wireless, weather-resistant HD security camera, two-year battery life, motion detection, set up in minutes – 4 camera system\n",
        "\n",
        "'''\n",
        "actual_price = 20999\n",
        "rating = 4.1\n",
        "rating_count = 19252\n",
        "review = \"Above average phone,Worth For The Money,Okie,Phone is excellent,Purchased in good budget at 12k,It can fulfill basic needs in affordable price range,Nice,About features.\"\n",
        "'''\n",
        "actual_price = 599\n",
        "rating = 4.0\n",
        "rating_count = 171\n",
        "review = \"Nice product,Cheap plus durable. Worth the money.,Good purchase,Aine HDMI Male to VGA Female Video Converter Adapter Cable (Black),It's easy to connect,Sturdy, affordable, no lag converyer cable,Works well but the output quality is not as good as direct VGA connection.,Works well. Does its work as required.\"\n",
        "\n",
        "\n",
        "#sentiment analysis\n",
        "rev_sent = sentiment_pipeline(review[:512])\n",
        "#positive score if label='POSITIVE' else negative\n",
        "if (rev_sent[0]['label'] == 'POSITIVE'):\n",
        "    sentiment = review_sentiment[0]['score']\n",
        "else:\n",
        "    sentiment = -1 * review_sentiment[0]['score']\n",
        "\n",
        "input = [[actual_price, rating, rating_count, sentiment]]\n",
        "Xnew = scaler.transform(input)\n",
        "\n",
        "# make a prediction\n",
        "ynew = linear_svm.predict(Xnew).reshape(-1, 1)\n",
        "\n",
        "ynew = output_scaler.inverse_transform(ynew)\n",
        "\n",
        "print(input)\n",
        "print(f'suggested discounted price: {ynew[0][0]}')\n",
        "print(f'coefficients: {linear_svm.coef_}')\n",
        "\n"
      ]
    },
    {
      "cell_type": "code",
      "execution_count": 12,
      "metadata": {},
      "outputs": [
        {
          "name": "stdout",
          "output_type": "stream",
          "text": [
            "R2 Score:  0.8901830362834836\n",
            "Mean Squared Error:  0.1388660232869846\n"
          ]
        }
      ],
      "source": [
        "#SVM\n",
        "from sklearn.svm import SVR\n",
        "\n",
        "#fit on SVM regressor with Gaussian RBF kernel\n",
        "linear_svm = SVR(kernel = 'rbf') #linear=0.927 or rbf=0.890\n",
        "linear_svm.fit(X_train, y_train)\n",
        "\n",
        "#predict and print R2\n",
        "y_pred = linear_svm.predict(X_test)\n",
        "print('R2 Score: ', r2_score(y_test, y_pred))\n",
        "print('Mean Squared Error: ', mean_squared_error(y_test, y_pred))"
      ]
    },
    {
      "cell_type": "code",
      "execution_count": 13,
      "metadata": {
        "colab": {
          "base_uri": "https://localhost:8080/"
        },
        "id": "KqtkRmb4-rWF",
        "outputId": "4c571f40-705f-4372-eb75-f39a478c52be"
      },
      "outputs": [
        {
          "name": "stdout",
          "output_type": "stream",
          "text": [
            "[[599, 4.0, 171, -0.9949361085891724]]\n",
            "suggested discounted price: 727.7780646124279\n"
          ]
        }
      ],
      "source": [
        "# make a prediction for an example of an out-of-sample observation\n",
        "#Blink Outdoor (3rd Gen) - wireless, weather-resistant HD security camera, two-year battery life, motion detection, set up in minutes – 4 camera system\n",
        "actual_price = 20999\n",
        "rating = 4.1\n",
        "rating_count = 19252\n",
        "review = \"Above average phone,Worth For The Money,Okie,Phone is excellent,Purchased in good budget at 12k,It can fulfill basic needs in affordable price range,Nice,About features.\"\n",
        "\n",
        "actual_price = 599\n",
        "rating = 4.0\n",
        "rating_count = 171\n",
        "review = \"Nice product,Cheap plus durable. Worth the money.,Good purchase,Aine HDMI Male to VGA Female Video Converter Adapter Cable (Black),It's easy to connect,Sturdy, affordable, no lag converyer cable,Works well but the output quality is not as good as direct VGA connection.,Works well. Does its work as required.\"\n",
        "\n",
        "#sentiment analysis\n",
        "rev_sent = sentiment_pipeline(review[:512])\n",
        "#positive score if label='POSITIVE' else negative\n",
        "if (rev_sent[0]['label'] == 'POSITIVE'):\n",
        "    sentiment = review_sentiment[0]['score']\n",
        "else:\n",
        "    sentiment = -1 * review_sentiment[0]['score']\n",
        "\n",
        "input = [[actual_price, rating, rating_count, sentiment]]\n",
        "Xnew = scaler.transform(input)\n",
        "\n",
        "# make a prediction\n",
        "ynew = linear_svm.predict(Xnew)\n",
        "\n",
        "ynew = output_scaler.inverse_transform(ynew.reshape(1, -1))\n",
        "\n",
        "print(input)\n",
        "print(f'suggested discounted price: {ynew[0][0]}')\n",
        "\n"
      ]
    },
    {
      "cell_type": "code",
      "execution_count": 14,
      "metadata": {},
      "outputs": [
        {
          "name": "stdout",
          "output_type": "stream",
          "text": [
            "R2 Score:  0.9266794114257557\n",
            "Mean Squared Error:  0.09271553515766248\n"
          ]
        }
      ],
      "source": [
        "# build a random forest regressor\n",
        "from sklearn.ensemble import RandomForestRegressor\n",
        "\n",
        "#fit on random forest regressor\n",
        "regressor = RandomForestRegressor(n_estimators = 100, random_state = 0)\n",
        "regressor.fit(X_train, y_train)\n",
        "\n",
        "#predict and print R2\n",
        "y_pred = regressor.predict(X_test)\n",
        "print('R2 Score: ', r2_score(y_test, y_pred))\n",
        "print('Mean Squared Error: ', mean_squared_error(y_test, y_pred))\n",
        "\n",
        "\n"
      ]
    },
    {
      "cell_type": "code",
      "execution_count": 15,
      "metadata": {},
      "outputs": [
        {
          "name": "stdout",
          "output_type": "stream",
          "text": [
            "[[20999, 4.1, 19252, -0.9949361085891724]]\n",
            "suggested discounted price: 16663.100000000002\n"
          ]
        }
      ],
      "source": [
        "# make a prediction for an example of an out-of-sample observation\n",
        "#Blink Outdoor (3rd Gen) - wireless, weather-resistant HD security camera, two-year battery life, motion detection, set up in minutes – 4 camera system\n",
        "actual_price = 20999\n",
        "rating = 4.1\n",
        "rating_count = 19252\n",
        "review = \"Above average phone,Worth For The Money,Okie,Phone is excellent,Purchased in good budget at 12k,It can fulfill basic needs in affordable price range,Nice,About features.\"\n",
        "\n",
        "#actual_price = 599\n",
        "#rating = 4.0\n",
        "#rating_count = 171\n",
        "#review = \"Nice product,Cheap plus durable. Worth the money.,Good purchase,Aine HDMI Male to VGA Female Video Converter Adapter Cable (Black),It's easy to connect,Sturdy, affordable, no lag converyer cable,Works well but the output quality is not as good as direct VGA connection.,Works well. Does its work as required.\"\n",
        "\n",
        "review = \"bad\"\n",
        "\n",
        "#sentiment analysis\n",
        "rev_sent = sentiment_pipeline(review[:512])\n",
        "#positive score if label='POSITIVE' else negative\n",
        "if (rev_sent[0]['label'] == 'POSITIVE'):\n",
        "    sentiment = review_sentiment[0]['score']\n",
        "else:\n",
        "    sentiment = -1 * review_sentiment[0]['score']\n",
        "\n",
        "input = [[actual_price, rating, rating_count, sentiment]]\n",
        "Xnew = scaler.transform(input)\n",
        "\n",
        "# make a prediction\n",
        "ynew = regressor.predict(Xnew)\n",
        "\n",
        "ynew = output_scaler.inverse_transform(ynew.reshape(1, -1))\n",
        "\n",
        "print(input)\n",
        "\n",
        "print(f'suggested discounted price: {ynew[0][0]}')"
      ]
    },
    {
      "cell_type": "code",
      "execution_count": 16,
      "metadata": {},
      "outputs": [
        {
          "data": {
            "text/plain": [
              "array([0.95307149, 0.0142823 , 0.01824704, 0.01439917])"
            ]
          },
          "execution_count": 16,
          "metadata": {},
          "output_type": "execute_result"
        }
      ],
      "source": [
        "regressor.feature_importances_"
      ]
    },
    {
      "cell_type": "code",
      "execution_count": 19,
      "metadata": {},
      "outputs": [
        {
          "name": "stdout",
          "output_type": "stream",
          "text": [
            "0    0.953071\n",
            "2    0.018247\n",
            "3    0.014399\n",
            "1    0.014282\n",
            "dtype: float64\n"
          ]
        },
        {
          "data": {
            "image/png": "[encoded data removed]",
            "text/plain": [
              "<Figure size 1000x500 with 1 Axes>"
            ]
          },
          "metadata": {},
          "output_type": "display_data"
        }
      ],
      "source": [
        "feature_importances = regressor.feature_importances_\n",
        "\n",
        "\n",
        "# Create a pandas Series with feature importances and feature names\n",
        "importances = pd.Series(feature_importances)\n",
        "\n",
        "# Sort the importances in descending order\n",
        "sorted_importances = importances.sort_values(ascending=False)\n",
        "\n",
        "# Display the sorted feature importances\n",
        "print(sorted_importances)\n",
        "\n",
        "\n",
        "import matplotlib.pyplot as plt\n",
        "\n",
        "# Create a bar plot of feature importances\n",
        "sorted_importances.plot(kind='bar', figsize=(10, 5))\n",
        "plt.title('Feature Importances')\n",
        "plt.ylabel('Importance')\n",
        "plt.show()"
      ]
    },
    {
      "cell_type": "code",
      "execution_count": null,
      "metadata": {},
      "outputs": [],
      "source": []
    }
  ],
  "metadata": {
    "colab": {
      "authorship_tag": "ABX9TyPGefCmy2mFOjeBNNJmwLgG",
      "include_colab_link": true,
      "mount_file_id": "1mHHvEHYOdUfXSvZagy34_0gRNpCq-JLc",
      "provenance": []
    },
    "kernelspec": {
      "display_name": "Python 3",
      "name": "python3"
    },
    "language_info": {
      "codemirror_mode": {
        "name": "ipython",
        "version": 3
      },
      "file_extension": ".py",
      "mimetype": "text/x-python",
      "name": "python",
      "nbconvert_exporter": "python",
      "pygments_lexer": "ipython3",
      "version": "3.8.16"
    }
  },
  "nbformat": 4,
  "nbformat_minor": 0
}
