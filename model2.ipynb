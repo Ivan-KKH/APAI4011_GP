{
  "cells": [
    {
      "cell_type": "markdown",
      "metadata": {
        "colab_type": "text",
        "id": "view-in-github"
      },
      "source": [
        "<a href=\"https://colab.research.google.com/github/Ivan-KKH/APAI4011_GP/blob/master/model2.ipynb\" target=\"_parent\"><img src=\"https://colab.research.google.com/assets/colab-badge.svg\" alt=\"Open In Colab\"/></a>"
      ]
    },
    {
      "cell_type": "code",
      "execution_count": 1,
      "metadata": {
        "colab": {
          "base_uri": "https://localhost:8080/"
        },
        "id": "C6mjywwLS141",
        "outputId": "eaeb8b86-98bf-4a65-ed13-fa99477933b4"
      },
      "outputs": [
        {
          "name": "stdout",
          "output_type": "stream",
          "text": [
            "\u001b[2K     \u001b[90m━━━━━━━━━━━━━━━━━━━━━━━━━━━━━━━━━━━━━━━━\u001b[0m \u001b[32m7.0/7.0 MB\u001b[0m \u001b[31m38.7 MB/s\u001b[0m eta \u001b[36m0:00:00\u001b[0m\n",
            "\u001b[2K     \u001b[90m━━━━━━━━━━━━━━━━━━━━━━━━━━━━━━━━━━━━━━━\u001b[0m \u001b[32m224.5/224.5 kB\u001b[0m \u001b[31m9.5 MB/s\u001b[0m eta \u001b[36m0:00:00\u001b[0m\n",
            "\u001b[2K     \u001b[90m━━━━━━━━━━━━━━━━━━━━━━━━━━━━━━━━━━━━━━━━\u001b[0m \u001b[32m7.8/7.8 MB\u001b[0m \u001b[31m34.5 MB/s\u001b[0m eta \u001b[36m0:00:00\u001b[0m\n",
            "\u001b[?25h"
          ]
        }
      ],
      "source": [
        "#install\n",
        "!pip install -q transformers"
      ]
    },
    {
      "cell_type": "code",
      "execution_count": 1,
      "metadata": {
        "id": "d6tVsqbFTDDM"
      },
      "outputs": [],
      "source": [
        "#import libraries\n",
        "import numpy as np\n",
        "import pandas as pd\n",
        "from transformers import pipeline\n",
        "#from google.colab import files\n",
        "import io\n",
        "import re\n",
        "from tqdm import tqdm\n",
        "from sklearn.model_selection import train_test_split\n",
        "import math\n",
        "import warnings\n",
        "warnings.filterwarnings(\"ignore\")"
      ]
    },
    {
      "cell_type": "code",
      "execution_count": 105,
      "metadata": {
        "colab": {
          "base_uri": "https://localhost:8080/",
          "height": 76
        },
        "id": "Lf0p4D6PUO-n",
        "outputId": "8c612911-e92f-4e09-f1dc-3dadad55a164"
      },
      "outputs": [
        {
          "data": {
            "text/html": [
              "\n",
              "     <input type=\"file\" id=\"files-eaf509db-6a1c-460c-9250-55bb0c5a5071\" name=\"files[]\" multiple disabled\n",
              "        style=\"border:none\" />\n",
              "     <output id=\"result-eaf509db-6a1c-460c-9250-55bb0c5a5071\">\n",
              "      Upload widget is only available when the cell has been executed in the\n",
              "      current browser session. Please rerun this cell to enable.\n",
              "      </output>\n",
              "      <script>// Copyright 2017 Google LLC\n",
              "//\n",
              "// Licensed under the Apache License, Version 2.0 (the \"License\");\n",
              "// you may not use this file except in compliance with the License.\n",
              "// You may obtain a copy of the License at\n",
              "//\n",
              "//      http://www.apache.org/licenses/LICENSE-2.0\n",
              "//\n",
              "// Unless required by applicable law or agreed to in writing, software\n",
              "// distributed under the License is distributed on an \"AS IS\" BASIS,\n",
              "// WITHOUT WARRANTIES OR CONDITIONS OF ANY KIND, either express or implied.\n",
              "// See the License for the specific language governing permissions and\n",
              "// limitations under the License.\n",
              "\n",
              "/**\n",
              " * @fileoverview Helpers for google.colab Python module.\n",
              " */\n",
              "(function(scope) {\n",
              "function span(text, styleAttributes = {}) {\n",
              "  const element = document.createElement('span');\n",
              "  element.textContent = text;\n",
              "  for (const key of Object.keys(styleAttributes)) {\n",
              "    element.style[key] = styleAttributes[key];\n",
              "  }\n",
              "  return element;\n",
              "}\n",
              "\n",
              "// Max number of bytes which will be uploaded at a time.\n",
              "const MAX_PAYLOAD_SIZE = 100 * 1024;\n",
              "\n",
              "function _uploadFiles(inputId, outputId) {\n",
              "  const steps = uploadFilesStep(inputId, outputId);\n",
              "  const outputElement = document.getElementById(outputId);\n",
              "  // Cache steps on the outputElement to make it available for the next call\n",
              "  // to uploadFilesContinue from Python.\n",
              "  outputElement.steps = steps;\n",
              "\n",
              "  return _uploadFilesContinue(outputId);\n",
              "}\n",
              "\n",
              "// This is roughly an async generator (not supported in the browser yet),\n",
              "// where there are multiple asynchronous steps and the Python side is going\n",
              "// to poll for completion of each step.\n",
              "// This uses a Promise to block the python side on completion of each step,\n",
              "// then passes the result of the previous step as the input to the next step.\n",
              "function _uploadFilesContinue(outputId) {\n",
              "  const outputElement = document.getElementById(outputId);\n",
              "  const steps = outputElement.steps;\n",
              "\n",
              "  const next = steps.next(outputElement.lastPromiseValue);\n",
              "  return Promise.resolve(next.value.promise).then((value) => {\n",
              "    // Cache the last promise value to make it available to the next\n",
              "    // step of the generator.\n",
              "    outputElement.lastPromiseValue = value;\n",
              "    return next.value.response;\n",
              "  });\n",
              "}\n",
              "\n",
              "/**\n",
              " * Generator function which is called between each async step of the upload\n",
              " * process.\n",
              " * @param {string} inputId Element ID of the input file picker element.\n",
              " * @param {string} outputId Element ID of the output display.\n",
              " * @return {!Iterable<!Object>} Iterable of next steps.\n",
              " */\n",
              "function* uploadFilesStep(inputId, outputId) {\n",
              "  const inputElement = document.getElementById(inputId);\n",
              "  inputElement.disabled = false;\n",
              "\n",
              "  const outputElement = document.getElementById(outputId);\n",
              "  outputElement.innerHTML = '';\n",
              "\n",
              "  const pickedPromise = new Promise((resolve) => {\n",
              "    inputElement.addEventListener('change', (e) => {\n",
              "      resolve(e.target.files);\n",
              "    });\n",
              "  });\n",
              "\n",
              "  const cancel = document.createElement('button');\n",
              "  inputElement.parentElement.appendChild(cancel);\n",
              "  cancel.textContent = 'Cancel upload';\n",
              "  const cancelPromise = new Promise((resolve) => {\n",
              "    cancel.onclick = () => {\n",
              "      resolve(null);\n",
              "    };\n",
              "  });\n",
              "\n",
              "  // Wait for the user to pick the files.\n",
              "  const files = yield {\n",
              "    promise: Promise.race([pickedPromise, cancelPromise]),\n",
              "    response: {\n",
              "      action: 'starting',\n",
              "    }\n",
              "  };\n",
              "\n",
              "  cancel.remove();\n",
              "\n",
              "  // Disable the input element since further picks are not allowed.\n",
              "  inputElement.disabled = true;\n",
              "\n",
              "  if (!files) {\n",
              "    return {\n",
              "      response: {\n",
              "        action: 'complete',\n",
              "      }\n",
              "    };\n",
              "  }\n",
              "\n",
              "  for (const file of files) {\n",
              "    const li = document.createElement('li');\n",
              "    li.append(span(file.name, {fontWeight: 'bold'}));\n",
              "    li.append(span(\n",
              "        `(${file.type || 'n/a'}) - ${file.size} bytes, ` +\n",
              "        `last modified: ${\n",
              "            file.lastModifiedDate ? file.lastModifiedDate.toLocaleDateString() :\n",
              "                                    'n/a'} - `));\n",
              "    const percent = span('0% done');\n",
              "    li.appendChild(percent);\n",
              "\n",
              "    outputElement.appendChild(li);\n",
              "\n",
              "    const fileDataPromise = new Promise((resolve) => {\n",
              "      const reader = new FileReader();\n",
              "      reader.onload = (e) => {\n",
              "        resolve(e.target.result);\n",
              "      };\n",
              "      reader.readAsArrayBuffer(file);\n",
              "    });\n",
              "    // Wait for the data to be ready.\n",
              "    let fileData = yield {\n",
              "      promise: fileDataPromise,\n",
              "      response: {\n",
              "        action: 'continue',\n",
              "      }\n",
              "    };\n",
              "\n",
              "    // Use a chunked sending to avoid message size limits. See b/62115660.\n",
              "    let position = 0;\n",
              "    do {\n",
              "      const length = Math.min(fileData.byteLength - position, MAX_PAYLOAD_SIZE);\n",
              "      const chunk = new Uint8Array(fileData, position, length);\n",
              "      position += length;\n",
              "\n",
              "      const base64 = btoa(String.fromCharCode.apply(null, chunk));\n",
              "      yield {\n",
              "        response: {\n",
              "          action: 'append',\n",
              "          file: file.name,\n",
              "          data: base64,\n",
              "        },\n",
              "      };\n",
              "\n",
              "      let percentDone = fileData.byteLength === 0 ?\n",
              "          100 :\n",
              "          Math.round((position / fileData.byteLength) * 100);\n",
              "      percent.textContent = `${percentDone}% done`;\n",
              "\n",
              "    } while (position < fileData.byteLength);\n",
              "  }\n",
              "\n",
              "  // All done.\n",
              "  yield {\n",
              "    response: {\n",
              "      action: 'complete',\n",
              "    }\n",
              "  };\n",
              "}\n",
              "\n",
              "scope.google = scope.google || {};\n",
              "scope.google.colab = scope.google.colab || {};\n",
              "scope.google.colab._files = {\n",
              "  _uploadFiles,\n",
              "  _uploadFilesContinue,\n",
              "};\n",
              "})(self);\n",
              "</script> "
            ],
            "text/plain": [
              "<IPython.core.display.HTML object>"
            ]
          },
          "metadata": {},
          "output_type": "display_data"
        },
        {
          "name": "stdout",
          "output_type": "stream",
          "text": [
            "Saving amazon.csv to amazon (2).csv\n"
          ]
        }
      ],
      "source": [
        "#import CSV file\n",
        "#uploaded = files.upload()\n"
      ]
    },
    {
      "cell_type": "code",
      "execution_count": 3,
      "metadata": {
        "colab": {
          "base_uri": "https://localhost:8080/"
        },
        "id": "ihANVknoWmCD",
        "outputId": "31f9ab33-bde7-4594-8475-ae0b2cbb8549"
      },
      "outputs": [
        {
          "data": {
            "text/plain": [
              "0       satisfied charging is really fast value for mo...\n",
              "1       a good braided cable for your type c device go...\n",
              "2       good speed for earlier versions good product w...\n",
              "3       good product good one nice really nice product...\n",
              "4       as good as original decent good one for second...\n",
              "                              ...                        \n",
              "1460    received the product without spanner excellent...\n",
              "1461    ok everything was good couldn t return bcoz i ...\n",
              "1462    very good work but front melt after 2 month go...\n",
              "1463    fan speed is slow good quality good product go...\n",
              "1464    works perfect ok good product nice product  re...\n",
              "Name: combined, Length: 1465, dtype: object"
            ]
          },
          "execution_count": 3,
          "metadata": {},
          "output_type": "execute_result"
        }
      ],
      "source": [
        "#read csv file\n",
        "#df = pd.read_csv(io.BytesIO(uploaded['amazon.csv']))\n",
        "df = pd.read_csv('amazon.csv')\n",
        "\n",
        "#dfReview for review product name and product description\n",
        "dfText = df[['review_title', 'review_content']]\n",
        "\n",
        "#preprocess text data\n",
        "for column in range(2):\n",
        "    dfText.iloc[:,column] = dfText.iloc[:,column].apply(lambda x: x.lower())\n",
        "    dfText.iloc[:,column] = dfText.iloc[:,column].apply((lambda x: re.sub(r\"http\\S+\",\" \",x)))\n",
        "    dfText.iloc[:,column] = dfText.iloc[:,column].apply((lambda x: re.sub('[^a-zA-z0-9\\s]',\" \",x)))\n",
        "\n",
        "#combine product_name and about_product\n",
        "dfText['combined'] = dfText['review_title'] + ' ' + dfText['review_content']\n",
        "dfText['combined']"
      ]
    },
    {
      "cell_type": "code",
      "execution_count": 4,
      "metadata": {
        "id": "VtjoRbXwix00"
      },
      "outputs": [],
      "source": [
        "#preprocess numeric inputs\n",
        "#rating count\n",
        "df['rating_count'] = df['rating_count'].replace(',','',regex=True).astype('float64')\n",
        "df['rating_count'] = df['rating_count'].fillna(0) #replace NaN values with 0\n",
        "\n",
        "#actual price\n",
        "df['actual_price'] = df['actual_price'].replace(',','',regex=True)\n",
        "df['actual_price'] = df['actual_price'].replace('₹','',regex=True).astype('float64')\n",
        "#discounted price\n",
        "df['discounted_price'] = df['discounted_price'].replace(',','',regex=True)\n",
        "df['discounted_price'] = df['discounted_price'].replace('₹','',regex=True).astype('float64')\n",
        "#rating\n",
        "df['rating'] = df['rating'].replace('|', '4.0').astype('float64')\n"
      ]
    },
    {
      "cell_type": "code",
      "execution_count": 12,
      "metadata": {
        "colab": {
          "base_uri": "https://localhost:8080/",
          "height": 497
        },
        "id": "-OuPN_oaZK18",
        "outputId": "ab4de8ec-031f-4265-a3a2-deb522d70d8c"
      },
      "outputs": [
        {
          "name": "stderr",
          "output_type": "stream",
          "text": [
            "No model was supplied, defaulted to distilbert-base-uncased-finetuned-sst-2-english and revision af0f99b (https://huggingface.co/distilbert-base-uncased-finetuned-sst-2-english).\n",
            "Using a pipeline without specifying a model name and revision in production is not recommended.\n",
            "100%|██████████| 1465/1465 [00:34<00:00, 41.86it/s]\n"
          ]
        },
        {
          "data": {
            "text/html": [
              "<div>\n",
              "<style scoped>\n",
              "    .dataframe tbody tr th:only-of-type {\n",
              "        vertical-align: middle;\n",
              "    }\n",
              "\n",
              "    .dataframe tbody tr th {\n",
              "        vertical-align: top;\n",
              "    }\n",
              "\n",
              "    .dataframe thead th {\n",
              "        text-align: right;\n",
              "    }\n",
              "</style>\n",
              "<table border=\"1\" class=\"dataframe\">\n",
              "  <thead>\n",
              "    <tr style=\"text-align: right;\">\n",
              "      <th></th>\n",
              "      <th>review_title</th>\n",
              "      <th>sentiment</th>\n",
              "    </tr>\n",
              "  </thead>\n",
              "  <tbody>\n",
              "    <tr>\n",
              "      <th>0</th>\n",
              "      <td>Satisfied,Charging is really fast,Value for mo...</td>\n",
              "      <td>0.999341</td>\n",
              "    </tr>\n",
              "    <tr>\n",
              "      <th>1</th>\n",
              "      <td>A Good Braided Cable for Your Type C Device,Go...</td>\n",
              "      <td>-0.610362</td>\n",
              "    </tr>\n",
              "    <tr>\n",
              "      <th>2</th>\n",
              "      <td>Good speed for earlier versions,Good Product,W...</td>\n",
              "      <td>0.999560</td>\n",
              "    </tr>\n",
              "    <tr>\n",
              "      <th>3</th>\n",
              "      <td>Good product,Good one,Nice,Really nice product...</td>\n",
              "      <td>0.995654</td>\n",
              "    </tr>\n",
              "    <tr>\n",
              "      <th>4</th>\n",
              "      <td>As good as original,Decent,Good one for second...</td>\n",
              "      <td>0.999690</td>\n",
              "    </tr>\n",
              "    <tr>\n",
              "      <th>...</th>\n",
              "      <td>...</td>\n",
              "      <td>...</td>\n",
              "    </tr>\n",
              "    <tr>\n",
              "      <th>1460</th>\n",
              "      <td>Received the product without spanner,Excellent...</td>\n",
              "      <td>0.976231</td>\n",
              "    </tr>\n",
              "    <tr>\n",
              "      <th>1461</th>\n",
              "      <td>ok,everything was good couldn't return bcoz I ...</td>\n",
              "      <td>-0.954375</td>\n",
              "    </tr>\n",
              "    <tr>\n",
              "      <th>1462</th>\n",
              "      <td>very good,Work but front melt after 2 month,Go...</td>\n",
              "      <td>-0.909176</td>\n",
              "    </tr>\n",
              "    <tr>\n",
              "      <th>1463</th>\n",
              "      <td>Fan Speed is slow,Good quality,Good product,go...</td>\n",
              "      <td>0.997580</td>\n",
              "    </tr>\n",
              "    <tr>\n",
              "      <th>1464</th>\n",
              "      <td>Works perfect,Ok good product,Nice Product. Re...</td>\n",
              "      <td>0.994936</td>\n",
              "    </tr>\n",
              "  </tbody>\n",
              "</table>\n",
              "<p>1465 rows × 2 columns</p>\n",
              "</div>"
            ],
            "text/plain": [
              "                                           review_title  sentiment\n",
              "0     Satisfied,Charging is really fast,Value for mo...   0.999341\n",
              "1     A Good Braided Cable for Your Type C Device,Go...  -0.610362\n",
              "2     Good speed for earlier versions,Good Product,W...   0.999560\n",
              "3     Good product,Good one,Nice,Really nice product...   0.995654\n",
              "4     As good as original,Decent,Good one for second...   0.999690\n",
              "...                                                 ...        ...\n",
              "1460  Received the product without spanner,Excellent...   0.976231\n",
              "1461  ok,everything was good couldn't return bcoz I ...  -0.954375\n",
              "1462  very good,Work but front melt after 2 month,Go...  -0.909176\n",
              "1463  Fan Speed is slow,Good quality,Good product,go...   0.997580\n",
              "1464  Works perfect,Ok good product,Nice Product. Re...   0.994936\n",
              "\n",
              "[1465 rows x 2 columns]"
            ]
          },
          "execution_count": 12,
          "metadata": {},
          "output_type": "execute_result"
        }
      ],
      "source": [
        "\n",
        "#sentiment analysis\n",
        "sentiment_pipeline = pipeline(\"sentiment-analysis\")\n",
        "sentiment = []\n",
        "for review in tqdm(dfText['review_title']):\n",
        "    #sentiment analysis using huggingface sentiment analyser\n",
        "\n",
        "    review_sentiment = sentiment_pipeline(review[:512])\n",
        "    #positive score if label='POSITIVE' else negative\n",
        "    if review_sentiment[0]['label'] == 'POSITIVE':\n",
        "        score = review_sentiment[0]['score']\n",
        "    else:\n",
        "        score = -1 * review_sentiment[0]['score']\n",
        "    sentiment.append(score)\n",
        "df['sentiment'] = sentiment\n",
        "\n",
        "df[['review_title','sentiment']]\n"
      ]
    },
    {
      "cell_type": "code",
      "execution_count": 13,
      "metadata": {},
      "outputs": [
        {
          "data": {
            "image/png": "[encoded data removed]",
            "text/plain": [
              "<Figure size 640x480 with 1 Axes>"
            ]
          },
          "metadata": {},
          "output_type": "display_data"
        }
      ],
      "source": [
        "import matplotlib.pyplot as plt\n",
        "plt.hist(sentiment, bins=20)\n",
        "plt.show()"
      ]
    },
    {
      "cell_type": "code",
      "execution_count": 74,
      "metadata": {
        "colab": {
          "base_uri": "https://localhost:8080/"
        },
        "id": "ye4D3oj1fnl2",
        "outputId": "3295678e-254a-472e-a271-38a1db88b5ac"
      },
      "outputs": [
        {
          "name": "stdout",
          "output_type": "stream",
          "text": [
            "R2 Score:  0.9229431872121729\n",
            "Mean Squared Error:  0.09744007480153853\n"
          ]
        }
      ],
      "source": [
        "#multiple linear regression\n",
        "from sklearn.preprocessing import StandardScaler\n",
        "from sklearn.linear_model import LinearRegression\n",
        "from sklearn.metrics import r2_score\n",
        "\n",
        "scaler = StandardScaler()\n",
        "\n",
        "#add review sentiment as an input variable\n",
        "X = df[['actual_price', 'rating', 'rating_count', 'sentiment']]\n",
        "y = df['discounted_price']\n",
        "\n",
        "#normalise numeric inputs and output\n",
        "X = scaler.fit_transform(X)\n",
        "output_scaler = StandardScaler()\n",
        "y = output_scaler.fit_transform(np.array(y).reshape(-1,1))\n",
        "\n",
        "#train test split\n",
        "X_train, X_test, y_train, y_test = train_test_split(X, y, random_state = 21, test_size = 0.3)\n",
        "\n",
        "#fit multiple linear regression\n",
        "regss = LinearRegression()\n",
        "regss.fit(X_train, y_train)\n",
        "\n",
        "#predict and print R2\n",
        "y_pred = regss.predict(X_test)\n",
        "\n",
        "print('R2 Score: ', r2_score(y_test, y_pred))\n",
        "\n",
        "# print other metrics\n",
        "from sklearn.metrics import mean_squared_error, mean_absolute_error\n",
        "print('Mean Squared Error: ', mean_squared_error(y_test, y_pred))"
      ]
    },
    {
      "cell_type": "code",
      "execution_count": 76,
      "metadata": {
        "colab": {
          "base_uri": "https://localhost:8080/"
        },
        "id": "qEv9DO5Us05p",
        "outputId": "e274f888-3b53-4de0-82f3-978e321ce9b8"
      },
      "outputs": [
        {
          "name": "stdout",
          "output_type": "stream",
          "text": [
            "[[599, 4.0, 171, -0.9949361085891724]]\n",
            "suggested discounted price: 386.558613610036\n"
          ]
        }
      ],
      "source": [
        "# make a prediction for an example of an out-of-sample observation\n",
        "#Blink Outdoor (3rd Gen) - wireless, weather-resistant HD security camera, two-year battery life, motion detection, set up in minutes – 4 camera system\n",
        "\n",
        "'''\n",
        "actual_price = 20999\n",
        "rating = 4.1\n",
        "rating_count = 19252\n",
        "review = \"Above average phone,Worth For The Money,Okie,Phone is excellent,Purchased in good budget at 12k,It can fulfill basic needs in affordable price range,Nice,About features.\"\n",
        "'''\n",
        "actual_price = 599\n",
        "rating = 4.0\n",
        "rating_count = 171\n",
        "review = \"Nice product,Cheap plus durable. Worth the money.,Good purchase,Aine HDMI Male to VGA Female Video Converter Adapter Cable (Black),It's easy to connect,Sturdy, affordable, no lag converyer cable,Works well but the output quality is not as good as direct VGA connection.,Works well. Does its work as required.\"\n",
        "\n",
        "\n",
        "#sentiment analysis\n",
        "rev_sent = sentiment_pipeline(review[:512])\n",
        "#positive score if label='POSITIVE' else negative\n",
        "if (rev_sent[0]['label'] == 'POSITIVE'):\n",
        "    sentiment = review_sentiment[0]['score']\n",
        "else:\n",
        "    sentiment = -1 * review_sentiment[0]['score']\n",
        "\n",
        "input = [[actual_price, rating, rating_count, sentiment]]\n",
        "Xnew = scaler.transform(input)\n",
        "\n",
        "# make a prediction\n",
        "ynew = regss.predict(Xnew)\n",
        "\n",
        "ynew = output_scaler.inverse_transform(ynew)\n",
        "\n",
        "print(input)\n",
        "print(f'suggested discounted price: {ynew[0][0]}')"
      ]
    },
    {
      "cell_type": "code",
      "execution_count": 70,
      "metadata": {
        "colab": {
          "base_uri": "https://localhost:8080/"
        },
        "id": "ZF38QvCR9S--",
        "outputId": "53a23f7d-e940-4db9-8721-447eee7546ee"
      },
      "outputs": [
        {
          "name": "stdout",
          "output_type": "stream",
          "text": [
            "R2 Score:  0.9279137895316119\n",
            "Mean Squared Error:  0.09115463624922746\n"
          ]
        }
      ],
      "source": [
        "#SVM\n",
        "from sklearn.svm import SVR\n",
        "\n",
        "#fit on SVM regressor with Gaussian RBF kernel\n",
        "linear_svm = SVR(kernel = 'linear') #linear=0.927 or rbf=0.890\n",
        "linear_svm.fit(X_train, y_train)\n",
        "\n",
        "#predict and print R2\n",
        "y_pred = linear_svm.predict(X_test)\n",
        "print('R2 Score: ', r2_score(y_test, y_pred))\n",
        "print('Mean Squared Error: ', mean_squared_error(y_test, y_pred))"
      ]
    },
    {
      "cell_type": "code",
      "execution_count": 78,
      "metadata": {},
      "outputs": [
        {
          "name": "stdout",
          "output_type": "stream",
          "text": [
            "[[599, 4.0, 171, -0.9949361085891724]]\n",
            "suggested discounted price: 309.84200051908647\n",
            "coefficients: [[ 0.9737023   0.01263486  0.00114059 -0.02022697]]\n"
          ]
        }
      ],
      "source": [
        "# make a prediction for an example of an out-of-sample observation\n",
        "#Blink Outdoor (3rd Gen) - wireless, weather-resistant HD security camera, two-year battery life, motion detection, set up in minutes – 4 camera system\n",
        "\n",
        "'''\n",
        "actual_price = 20999\n",
        "rating = 4.1\n",
        "rating_count = 19252\n",
        "review = \"Above average phone,Worth For The Money,Okie,Phone is excellent,Purchased in good budget at 12k,It can fulfill basic needs in affordable price range,Nice,About features.\"\n",
        "'''\n",
        "actual_price = 599\n",
        "rating = 4.0\n",
        "rating_count = 171\n",
        "review = \"Nice product,Cheap plus durable. Worth the money.,Good purchase,Aine HDMI Male to VGA Female Video Converter Adapter Cable (Black),It's easy to connect,Sturdy, affordable, no lag converyer cable,Works well but the output quality is not as good as direct VGA connection.,Works well. Does its work as required.\"\n",
        "\n",
        "\n",
        "#sentiment analysis\n",
        "rev_sent = sentiment_pipeline(review[:512])\n",
        "#positive score if label='POSITIVE' else negative\n",
        "if (rev_sent[0]['label'] == 'POSITIVE'):\n",
        "    sentiment = review_sentiment[0]['score']\n",
        "else:\n",
        "    sentiment = -1 * review_sentiment[0]['score']\n",
        "\n",
        "input = [[actual_price, rating, rating_count, sentiment]]\n",
        "Xnew = scaler.transform(input)\n",
        "\n",
        "# make a prediction\n",
        "ynew = linear_svm.predict(Xnew).reshape(-1, 1)\n",
        "\n",
        "ynew = output_scaler.inverse_transform(ynew)\n",
        "\n",
        "print(input)\n",
        "print(f'suggested discounted price: {ynew[0][0]}')\n",
        "print(f'coefficients: {linear_svm.coef_}')\n",
        "\n"
      ]
    },
    {
      "cell_type": "code",
      "execution_count": 66,
      "metadata": {},
      "outputs": [
        {
          "name": "stdout",
          "output_type": "stream",
          "text": [
            "R2 Score:  0.8901830362834836\n",
            "Mean Squared Error:  0.1388660232869846\n"
          ]
        }
      ],
      "source": [
        "#SVM\n",
        "from sklearn.svm import SVR\n",
        "\n",
        "#fit on SVM regressor with Gaussian RBF kernel\n",
        "linear_svm = SVR(kernel = 'rbf') #linear=0.927 or rbf=0.890\n",
        "linear_svm.fit(X_train, y_train)\n",
        "\n",
        "#predict and print R2\n",
        "y_pred = linear_svm.predict(X_test)\n",
        "print('R2 Score: ', r2_score(y_test, y_pred))\n",
        "print('Mean Squared Error: ', mean_squared_error(y_test, y_pred))"
      ]
    },
    {
      "cell_type": "code",
      "execution_count": 79,
      "metadata": {
        "colab": {
          "base_uri": "https://localhost:8080/"
        },
        "id": "KqtkRmb4-rWF",
        "outputId": "4c571f40-705f-4372-eb75-f39a478c52be"
      },
      "outputs": [
        {
          "name": "stdout",
          "output_type": "stream",
          "text": [
            "[[599, 4.0, 171, -0.9949361085891724]]\n",
            "suggested discounted price: 309.84200051908647\n"
          ]
        }
      ],
      "source": [
        "# make a prediction for an example of an out-of-sample observation\n",
        "#Blink Outdoor (3rd Gen) - wireless, weather-resistant HD security camera, two-year battery life, motion detection, set up in minutes – 4 camera system\n",
        "actual_price = 20999\n",
        "rating = 4.1\n",
        "rating_count = 19252\n",
        "review = \"Above average phone,Worth For The Money,Okie,Phone is excellent,Purchased in good budget at 12k,It can fulfill basic needs in affordable price range,Nice,About features.\"\n",
        "\n",
        "actual_price = 599\n",
        "rating = 4.0\n",
        "rating_count = 171\n",
        "review = \"Nice product,Cheap plus durable. Worth the money.,Good purchase,Aine HDMI Male to VGA Female Video Converter Adapter Cable (Black),It's easy to connect,Sturdy, affordable, no lag converyer cable,Works well but the output quality is not as good as direct VGA connection.,Works well. Does its work as required.\"\n",
        "\n",
        "#sentiment analysis\n",
        "rev_sent = sentiment_pipeline(review[:512])\n",
        "#positive score if label='POSITIVE' else negative\n",
        "if (rev_sent[0]['label'] == 'POSITIVE'):\n",
        "    sentiment = review_sentiment[0]['score']\n",
        "else:\n",
        "    sentiment = -1 * review_sentiment[0]['score']\n",
        "\n",
        "input = [[actual_price, rating, rating_count, sentiment]]\n",
        "Xnew = scaler.transform(input)\n",
        "\n",
        "# make a prediction\n",
        "ynew = linear_svm.predict(Xnew)\n",
        "\n",
        "ynew = output_scaler.inverse_transform(ynew.reshape(1, -1))\n",
        "\n",
        "print(input)\n",
        "print(f'suggested discounted price: {ynew[0][0]}')\n",
        "\n"
      ]
    },
    {
      "cell_type": "code",
      "execution_count": 81,
      "metadata": {},
      "outputs": [
        {
          "name": "stdout",
          "output_type": "stream",
          "text": [
            "R2 Score:  0.9266794114257557\n",
            "Mean Squared Error:  0.09271553515766248\n"
          ]
        }
      ],
      "source": [
        "# build a random forest regressor\n",
        "from sklearn.ensemble import RandomForestRegressor\n",
        "\n",
        "#fit on random forest regressor\n",
        "regressor = RandomForestRegressor(n_estimators = 100, random_state = 0)\n",
        "regressor.fit(X_train, y_train)\n",
        "\n",
        "#predict and print R2\n",
        "y_pred = regressor.predict(X_test)\n",
        "print('R2 Score: ', r2_score(y_test, y_pred))\n",
        "print('Mean Squared Error: ', mean_squared_error(y_test, y_pred))\n",
        "\n",
        "\n"
      ]
    },
    {
      "cell_type": "code",
      "execution_count": 87,
      "metadata": {},
      "outputs": [
        {
          "name": "stdout",
          "output_type": "stream",
          "text": [
            "[[20999, 4.1, 19252, -0.9949361085891724]]\n",
            "suggested discounted price: 16663.100000000002\n"
          ]
        }
      ],
      "source": [
        "# make a prediction for an example of an out-of-sample observation\n",
        "#Blink Outdoor (3rd Gen) - wireless, weather-resistant HD security camera, two-year battery life, motion detection, set up in minutes – 4 camera system\n",
        "actual_price = 20999\n",
        "rating = 4.1\n",
        "rating_count = 19252\n",
        "review = \"Above average phone,Worth For The Money,Okie,Phone is excellent,Purchased in good budget at 12k,It can fulfill basic needs in affordable price range,Nice,About features.\"\n",
        "\n",
        "#actual_price = 599\n",
        "#rating = 4.0\n",
        "#rating_count = 171\n",
        "#review = \"Nice product,Cheap plus durable. Worth the money.,Good purchase,Aine HDMI Male to VGA Female Video Converter Adapter Cable (Black),It's easy to connect,Sturdy, affordable, no lag converyer cable,Works well but the output quality is not as good as direct VGA connection.,Works well. Does its work as required.\"\n",
        "\n",
        "review = \"bad\"\n",
        "\n",
        "#sentiment analysis\n",
        "rev_sent = sentiment_pipeline(review[:512])\n",
        "#positive score if label='POSITIVE' else negative\n",
        "if (rev_sent[0]['label'] == 'POSITIVE'):\n",
        "    sentiment = review_sentiment[0]['score']\n",
        "else:\n",
        "    sentiment = -1 * review_sentiment[0]['score']\n",
        "\n",
        "input = [[actual_price, rating, rating_count, sentiment]]\n",
        "Xnew = scaler.transform(input)\n",
        "\n",
        "# make a prediction\n",
        "ynew = regressor.predict(Xnew)\n",
        "\n",
        "ynew = output_scaler.inverse_transform(ynew.reshape(1, -1))\n",
        "\n",
        "print(input)\n",
        "\n",
        "print(f'suggested discounted price: {ynew[0][0]}')"
      ]
    },
    {
      "cell_type": "code",
      "execution_count": null,
      "metadata": {},
      "outputs": [],
      "source": []
    }
  ],
  "metadata": {
    "colab": {
      "authorship_tag": "ABX9TyPGefCmy2mFOjeBNNJmwLgG",
      "include_colab_link": true,
      "mount_file_id": "1mHHvEHYOdUfXSvZagy34_0gRNpCq-JLc",
      "provenance": []
    },
    "kernelspec": {
      "display_name": "Python 3",
      "name": "python3"
    },
    "language_info": {
      "codemirror_mode": {
        "name": "ipython",
        "version": 3
      },
      "file_extension": ".py",
      "mimetype": "text/x-python",
      "name": "python",
      "nbconvert_exporter": "python",
      "pygments_lexer": "ipython3",
      "version": "3.8.16"
    }
  },
  "nbformat": 4,
  "nbformat_minor": 0
}
